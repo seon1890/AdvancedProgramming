{
 "cells": [
  {
   "cell_type": "markdown",
   "metadata": {},
   "source": [
    "## Homework 08:  Parallel Programming 01\n",
    "\n",
    "## Due Date: Apr 12, 2023, 11:59pm\n",
    "\n",
    "#### Firstname Lastname: Seonhye Yang\n",
    "\n",
    "#### E-mail: sy3420@nyu.edu\n",
    "\n",
    "#### Enter your solutions and submit this notebook"
   ]
  },
  {
   "cell_type": "markdown",
   "metadata": {},
   "source": [
    "---\n",
    "\n",
    "**Problem 1 (50p)**\n",
    "\n",
    "Write an MPI program `sol08pr01.py` that does the following for some arbitrary number of processes $N \\geq 2$. Here the number of processes $N$ is given as `N` while calling the code `sol08pr01.py` as: \n",
    "\n",
    "`mpirun -n N python3 sol08pr01.py`\n",
    "\n",
    "\n",
    "Every process will contain one buffer with one integer variable, each of which is initialized to $0$.\n",
    "\n",
    "For $r=0, 1, \\dots, N - 1$, Process $r$ updates its buffer to the value received by $r-1$ (this should only be done for $r \\geq 1$), then it squares its rank $r$, adds the result $r^2$ to the value of its own buffer, and then sends the sum to Process $r + 1$. Note that for $r=N-1$ the result will be sent to Process $0$, i.e. by convention, Process $N$ is the same as Process $0$. At the end Process $0$ prints the received value. \n",
    "\n",
    "Provide results for: $N = 10$, $N = 15$, $N = 20$, $N = 25$. These are probably more than the available processes on your machine: you can use the option `--oversubscribe` in `mpirun` to let MPI run things anyway.\n",
    "\n",
    "\n",
    "\n",
    "**Note**: You can use either blocking or non-blocking operations.Make sure to provide adequate comments and documentation in the code. \n",
    "\n"
   ]
  },
  {
   "cell_type": "code",
   "execution_count": 189,
   "metadata": {},
   "outputs": [
    {
     "name": "stdout",
     "output_type": "stream",
     "text": [
      "Overwriting sol08pr01.py\n"
     ]
    }
   ],
   "source": [
    "%%writefile sol08pr01.py\n",
    "#####\n",
    "# Finding the piece-wise hermite polynomial interpolation of a set of points\n",
    "# MPI version\n",
    "#####\n",
    "from time import time\n",
    "import numpy as np\n",
    "from mpi4py import MPI\n",
    "\n",
    "from mpi4py import MPI\n",
    "\n",
    "# comm = MPI.COMM_WORLD\n",
    "\n",
    "# my_rank = comm.Get_rank()\n",
    "# p = comm.Get_size()\n",
    "\n",
    "# if my_rank != 0:\n",
    "#     message = 'Hello from the other rank {}'.format(my_rank)\n",
    "#     comm.send(message, dest = 0)\n",
    "\n",
    "# else:\n",
    "#     for pid in range(1,p):\n",
    "#         message = comm.recv(source = pid)\n",
    "#         print('Process {} receives message: {}'.format(my_rank, message))\n",
    "\n",
    "# Initialize MPI\n",
    "comm = MPI.COMM_WORLD\n",
    "rank = comm.Get_rank()\n",
    "size = comm.Get_size()\n",
    "name = MPI.Get_processor_name()\n",
    "\n",
    "buffer = np.array([0])\n",
    "\n",
    "if rank == 0:\n",
    "    #when r is 0, send the value to r is 1\n",
    "    data = buffer\n",
    "    comm.Send(data, dest = 1)\n",
    "    \n",
    "    #receives the value from N-1\n",
    "    comm.Recv(buffer, source = size - 1)\n",
    "    print('Processor name is', name, \"rank:\", rank, 'and', \"value:\", buffer[0])\n",
    "\n",
    "\n",
    "for i in range(size-1):\n",
    "    comm.Recv(buffer, source = rank-1)\n",
    "    buffer = buffer+rank**2\n",
    "    comm.Send(buffer, dest = (rank+1)% size)\n",
    "    \n",
    "    \n",
    "    "
   ]
  },
  {
   "cell_type": "code",
   "execution_count": 190,
   "metadata": {},
   "outputs": [
    {
     "name": "stdout",
     "output_type": "stream",
     "text": [
      "Processor name is Seonhyes-MacBook-Pro.local rank: 0 and value: 285\r\n"
     ]
    }
   ],
   "source": [
    "!mpiexec -n 10 python sol08pr01.py"
   ]
  },
  {
   "cell_type": "code",
   "execution_count": 191,
   "metadata": {},
   "outputs": [
    {
     "name": "stdout",
     "output_type": "stream",
     "text": [
      "Processor name is Seonhyes-MacBook-Pro.local rank: 0 and value: 1015\r\n"
     ]
    }
   ],
   "source": [
    "!mpiexec -n 15 python sol08pr01.py  "
   ]
  },
  {
   "cell_type": "code",
   "execution_count": 192,
   "metadata": {},
   "outputs": [
    {
     "name": "stdout",
     "output_type": "stream",
     "text": [
      "Processor name is Seonhyes-MacBook-Pro.local rank: 0 and value: 2470\r\n"
     ]
    }
   ],
   "source": [
    "!mpiexec -n 20 python sol08pr01.py"
   ]
  },
  {
   "cell_type": "code",
   "execution_count": 172,
   "metadata": {},
   "outputs": [
    {
     "name": "stdout",
     "output_type": "stream",
     "text": [
      "Processor name is Seonhyes-MacBook-Pro.local rank: 0 and value: 4900\r\n"
     ]
    }
   ],
   "source": [
    "!mpiexec -n 25 python sol08pr01.py"
   ]
  },
  {
   "cell_type": "markdown",
   "metadata": {},
   "source": [
    "---\n",
    "\n",
    "**Problem 2 (50p)**\n",
    "\n",
    "Write an MPI program that does the following. There are two processes 0 and 1 that have to exchange $T=10$ messages.  \n",
    "\n",
    "\n",
    "Process 0 initially reads two float variables from the standard input, call them $x, y$, and must ensure $x \\neq 0$ and $y \\neq 0$. For example this can be done as:\n",
    "\n",
    "```\n",
    "import sys\n",
    "\n",
    "\n",
    "for line in sys.stdin:\n",
    "    x = float(line)        \n",
    "    if x != 0.0:\n",
    "        break\n",
    "for line in sys.stdin:\n",
    "    y = float(line)        \n",
    "    if y != 0.0:\n",
    "        break\n",
    "```\n",
    "\n",
    "\n",
    "Both Process 0 and Process 1 will carry main results in an element that is part of a process buffer and called $p$. The value in $p$ is initially set to $1$. \n",
    "\n",
    "\n",
    "Now the exchange of messages is as follows.\n",
    "\n",
    "\n",
    "0. Message00: Process 0 multiplies its own value in $p$ by $x$ and sends the whole buffer to Process 1.\n",
    "\n",
    "1. Message01: Process 1 divides its own value in $p$ by $y$ and sends the whole buffer to Process 0.\n",
    "\n",
    "2. Message01: Process 0 multiplies its own value in $p$ by $x$ and sends the whole buffer to Process 1.\n",
    "\n",
    "3. Message02: Process 1 divides its own value in $p$ by $y$ and sends the whole buffer to Process 0.\n",
    "\n",
    "\n",
    "etc.\n",
    "\n",
    "8. Message08: Process 0 multiplies its own value in $p$ by $x$ and sends the whole buffer to Process 1.\n",
    "\n",
    "9. Message09: Process 1 divides its own value in $p$ by $y$ and sends the whole buffer to Process 0.\n",
    "\n",
    "Finally, Process 0 prints the value in $p$ as a final result. \n",
    "\n",
    "\n",
    "Write the code that implements the protocol above. Additionally, provide results for: $(x, y) = (2, 4)$, $(x, y) = (1, 3)$, $(x, y) = (5, 7)$ and $(x, y) = (5, 10)$.\n",
    "\n",
    "\n",
    "**Note**: You can use either blocking or non-blocking operations.Make sure to provide adequate comments and documentation in the code.\n",
    "\n"
   ]
  },
  {
   "cell_type": "code",
   "execution_count": 183,
   "metadata": {},
   "outputs": [
    {
     "name": "stdout",
     "output_type": "stream",
     "text": [
      "Overwriting problem2.py\n"
     ]
    }
   ],
   "source": [
    "%%writefile problem2.py\n",
    "\n",
    "import sys\n",
    "from mpi4py import MPI\n",
    "import numpy as np\n",
    "\n",
    "comm = MPI.COMM_WORLD\n",
    "size = comm.Get_size()\n",
    "rank = comm.Get_rank()\n",
    "\n",
    "'''Message00: Process 0 multiplies its own value in  𝑝\n",
    "  by  𝑥\n",
    "  and sends the whole buffer to Process 1.\n",
    "\n",
    "Message01: Process 1 divides its own value in  𝑝\n",
    "  by  𝑦\n",
    "  and sends the whole buffer to Process 0.\n",
    "\n",
    "Message01: Process 0 multiplies its own value in  𝑝\n",
    "  by  𝑥\n",
    "  and sends the whole buffer to Process 1.\n",
    "\n",
    "Message02: Process 1 divides its own value in  𝑝\n",
    "  by  𝑦\n",
    "  and sends the whole buffer to Process 0.\n",
    "\n",
    "etc.\n",
    "\n",
    "Message08: Process 0 multiplies its own value in  𝑝\n",
    "  by  𝑥\n",
    "  and sends the whole buffer to Process 1.\n",
    "\n",
    "Message09: Process 1 divides its own value in  𝑝\n",
    "  by  𝑦\n",
    "  and sends the whole buffer to Process 0.'''\n",
    "\n",
    "#buffer = [p = 1, x, y]\n",
    "buffer = np.array([1, float(sys.argv[1]), float(sys.argv[2])])\n",
    "\n",
    "#since T = 10\n",
    "T = 10\n",
    "for i in range(T):\n",
    "    if rank == 1:\n",
    "        #receives from process 0 through tag 0\n",
    "        comm.Recv(buffer, source = 0, tag = 0)\n",
    "        #divides its own value in  𝑝 by  𝑦\n",
    "        buffer[2] = buffer[2]/buffer[1]\n",
    "        #sends to process 0 through tag 1\n",
    "        comm.Send(buffer, dest = 0, tag = 1)\n",
    "        \n",
    "    if rank == 0:\n",
    "#         comm.Recv(buffer, source = 1, tag = 1)\n",
    "        # multiplies its own value in  𝑝 by  𝑥\n",
    "        buffer[2] = buffer[0]*buffer[2]\n",
    "        #sends to process 1 through tag 0\n",
    "        comm.Send(buffer, dest = 1, tag = 0)\n",
    "        #receives from process 1 through tag 1\n",
    "        comm.Recv(buffer, source = 1, tag = 1)\n",
    "        \n",
    "        if i==9:\n",
    "            #final result of p\n",
    "            print(f\"p: {buffer[2]}\")\n",
    "        "
   ]
  },
  {
   "cell_type": "code",
   "execution_count": 184,
   "metadata": {},
   "outputs": [
    {
     "name": "stdout",
     "output_type": "stream",
     "text": [
      "p: 0.00390625\r\n"
     ]
    }
   ],
   "source": [
    "!mpiexec -n 2 python problem2.py 2 4"
   ]
  },
  {
   "cell_type": "code",
   "execution_count": 157,
   "metadata": {},
   "outputs": [
    {
     "name": "stdout",
     "output_type": "stream",
     "text": [
      "p: 3.0\r\n"
     ]
    }
   ],
   "source": [
    "!mpiexec -n 2 python problem2.py 1 3"
   ]
  },
  {
   "cell_type": "code",
   "execution_count": 154,
   "metadata": {},
   "outputs": [
    {
     "name": "stdout",
     "output_type": "stream",
     "text": [
      "p: 7.167999999999999e-07\r\n"
     ]
    }
   ],
   "source": [
    "!mpiexec -n 2 python problem2.py 5 7"
   ]
  },
  {
   "cell_type": "code",
   "execution_count": 141,
   "metadata": {},
   "outputs": [
    {
     "name": "stdout",
     "output_type": "stream",
     "text": [
      "p: 1.0240000000000003e-06\r\n"
     ]
    }
   ],
   "source": [
    "!mpiexec -n 2 python problem2.py 5 10"
   ]
  }
 ],
 "metadata": {
  "kernelspec": {
   "display_name": "Python 3 (ipykernel)",
   "language": "python",
   "name": "python3"
  },
  "language_info": {
   "codemirror_mode": {
    "name": "ipython",
    "version": 3
   },
   "file_extension": ".py",
   "mimetype": "text/x-python",
   "name": "python",
   "nbconvert_exporter": "python",
   "pygments_lexer": "ipython3",
   "version": "3.7.13"
  }
 },
 "nbformat": 4,
 "nbformat_minor": 2
}
