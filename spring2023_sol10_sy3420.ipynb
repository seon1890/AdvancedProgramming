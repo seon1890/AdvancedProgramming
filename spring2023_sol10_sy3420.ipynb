{
 "cells": [
  {
   "cell_type": "markdown",
   "metadata": {},
   "source": [
    "## Homework 10: GPUs\n",
    "\n",
    "## Due Date: April 26, 2023, 11:59pm\n",
    "\n",
    "#### Firstname Lastname: Seonhye Yang\n",
    "\n",
    "#### E-mail: sy3420@nyu.edu\n",
    "\n",
    "#### Enter your solutions and submit this notebook"
   ]
  },
  {
   "cell_type": "markdown",
   "metadata": {},
   "source": [
    "---\n",
    "\n",
    "**Problem 1 (100p)**\n",
    "\n",
    "\n",
    "Write two programs which will be able to run in parallel on a GPU, one using Numba/CUDA (50p), one using PyOpenCL (50p).\n",
    "\n",
    "\n",
    "Each program will:\n",
    "\n",
    "- draw two random vectors $\\vec u$ and $\\vec v$ from $[0,1]^N$ where $N = 10^7$;\n",
    "\n",
    "\n",
    "- calculate and output similarity between $\\vec u$ and $\\vec v$.\n",
    "\n",
    "\n",
    "\n",
    "\n",
    "The similarity between two vectors $\\vec u$ and $\\vec v$ is defined here as a `cosine` value of the angle between them $\\measuredangle \\left( \\vec u, \\vec v \\right)$. That is, the program returns: \n",
    "\n",
    "$$\\cos \\left( \\measuredangle \\left( \\vec u, \\vec v \\right) \\right).$$\n",
    "\n",
    "\n",
    "Note that the output is a real value and must belong to $[-1, 1]$."
   ]
  },
  {
   "cell_type": "markdown",
   "metadata": {},
   "source": [
    "**Problem 1: Numba/CUDA**"
   ]
  },
  {
   "cell_type": "code",
   "execution_count": 6,
   "metadata": {},
   "outputs": [],
   "source": [
    "!export NUMBA_ENABLE_CUDASIM=1"
   ]
  },
  {
   "cell_type": "code",
   "execution_count": 7,
   "metadata": {},
   "outputs": [
    {
     "name": "stdout",
     "output_type": "stream",
     "text": [
      "env: NUMBA_ENABLE_CUDASIM=1\n"
     ]
    }
   ],
   "source": [
    "%env NUMBA_ENABLE_CUDASIM=1"
   ]
  },
  {
   "cell_type": "code",
   "execution_count": 124,
   "metadata": {},
   "outputs": [],
   "source": [
    "from numba import cuda"
   ]
  },
  {
   "cell_type": "code",
   "execution_count": 148,
   "metadata": {},
   "outputs": [],
   "source": [
    "from numba import jit\n",
    "import numpy as np\n",
    "\n",
    "N = 10**7\n",
    "u = np.random.rand(N)\n",
    "v = np.random.rand(N)\n",
    "\n",
    "@jit\n",
    "def cosine_similarity(u, v):\n",
    "    uv = 0.0\n",
    "    vu = 0.0\n",
    "    uu = 0.0\n",
    "    vv = 0.0\n",
    "    for i in range(N):\n",
    "        uv += u[i]*v[i]\n",
    "        vu += v[i]*u[i]\n",
    "        uu += u[i]*u[i]\n",
    "        vv += v[i]*v[i]\n",
    "    cos = 0.0\n",
    "    if (vv!=0 and uu!=0):\n",
    "        cos = uv*(1/((uu*vv)**0.5))\n",
    "    else:\n",
    "        return None\n",
    "    return cos"
   ]
  },
  {
   "cell_type": "code",
   "execution_count": 149,
   "metadata": {},
   "outputs": [
    {
     "data": {
      "text/plain": [
       "0.750266367175593"
      ]
     },
     "execution_count": 149,
     "metadata": {},
     "output_type": "execute_result"
    }
   ],
   "source": [
    "cosine_similarity(u, v)"
   ]
  },
  {
   "cell_type": "markdown",
   "metadata": {},
   "source": [
    "**Problem 1: PyOpenCL**"
   ]
  },
  {
   "cell_type": "code",
   "execution_count": 134,
   "metadata": {},
   "outputs": [
    {
     "name": "stdout",
     "output_type": "stream",
     "text": [
      "Requirement already satisfied: pyopencl in /Users/seonhyeyang/anaconda3/lib/python3.7/site-packages (2022.2.4)\n",
      "Requirement already satisfied: pytools>=2021.2.7 in /Users/seonhyeyang/anaconda3/lib/python3.7/site-packages (from pyopencl) (2022.1.12)\n",
      "Requirement already satisfied: numpy in /Users/seonhyeyang/anaconda3/lib/python3.7/site-packages (from pyopencl) (1.21.6)\n",
      "Requirement already satisfied: platformdirs>=2.2.0 in /Users/seonhyeyang/anaconda3/lib/python3.7/site-packages (from pyopencl) (2.5.2)\n",
      "Requirement already satisfied: typing-extensions>=4.0 in /Users/seonhyeyang/anaconda3/lib/python3.7/site-packages (from pytools>=2021.2.7->pyopencl) (4.4.0)\n",
      "\n",
      "\u001b[1m[\u001b[0m\u001b[34;49mnotice\u001b[0m\u001b[1;39;49m]\u001b[0m\u001b[39;49m A new release of pip is available: \u001b[0m\u001b[31;49m23.0.1\u001b[0m\u001b[39;49m -> \u001b[0m\u001b[32;49m23.1.2\u001b[0m\n",
      "\u001b[1m[\u001b[0m\u001b[34;49mnotice\u001b[0m\u001b[1;39;49m]\u001b[0m\u001b[39;49m To update, run: \u001b[0m\u001b[32;49mpip install --upgrade pip\u001b[0m\n"
     ]
    }
   ],
   "source": [
    "!pip install pyopencl"
   ]
  },
  {
   "cell_type": "code",
   "execution_count": 152,
   "metadata": {},
   "outputs": [
    {
     "name": "stdout",
     "output_type": "stream",
     "text": [
      "cosine:0.7500136151735816\n"
     ]
    }
   ],
   "source": [
    "import numpy as np\n",
    "import pyopencl as cl\n",
    "\n",
    "N = 10**7\n",
    "\n",
    "u = np.random.rand(N).astype(np.float32)\n",
    "v = np.random.rand(N).astype(np.float32)\n",
    "\n",
    "# ctx = cl.create_some_context()\n",
    "platform = cl.get_platforms()[0]  # Select the first platform [0]\n",
    "device = platform.get_devices()[1]  # Select the first device on this platform [0]\n",
    "ctx = cl.Context([device])  # Create a context with your device\n",
    "queue = cl.CommandQueue(ctx)\n",
    "\n",
    "mf = cl.mem_flags\n",
    "u_0 = cl.Buffer(ctx, mf.READ_ONLY | mf.COPY_HOST_PTR, hostbuf=u)\n",
    "v_0 = cl.Buffer(ctx, mf.READ_ONLY | mf.COPY_HOST_PTR, hostbuf=v)\n",
    "\n",
    "# prg = cl.Program(ctx, \"\"\"\n",
    "# __kernel void sum(\n",
    "#     __global const float *a_g, __global const float *b_g, __global float *res_g)\n",
    "# {\n",
    "#   int gid = get_global_id(0);\n",
    "#   res_g[gid] = a_g[gid] + b_g[gid];\n",
    "# }\n",
    "# \"\"\").build()\n",
    "\n",
    "\n",
    "uu_1 = cl.Buffer(ctx, mf.WRITE_ONLY, u.nbytes)\n",
    "vv_1 = cl.Buffer(ctx, mf.WRITE_ONLY, v.nbytes)\n",
    "uv_1 = cl.Buffer(ctx, mf.WRITE_ONLY, (u*v).nbytes)\n",
    "vu_1 = cl.Buffer(ctx, mf.WRITE_ONLY, (v*u).nbytes)\n",
    "\n",
    "\n",
    "prg = cl.Program(ctx, '''\n",
    "__kernel void sum(__global float *u_0, \n",
    "__global float *v_0, \n",
    "__global float *vv_1,\n",
    "__global float *uu_1, \n",
    "__global float *uv_1,\n",
    "__global float *vu_1){\n",
    "int i = get_global_id(0); \n",
    "uu_1[i] += u_0[i]*u_0[i]; \n",
    "vv_1[i] += v_0[i]*v_0[i];\n",
    "uv_1[i] += u_0[i]*v_0[i];\n",
    "vu_1[i] += v_0[i]*u_0[i];\n",
    "}''').build()\n",
    "\n",
    "\n",
    "# prg.sum(queue, a_np.shape, None, a_g, b_g, res_g)\n",
    "\n",
    "prg.sum(queue, v.shape, None, u_0, v_0, uu_1, vv_1, uv_1, vu_1)\n",
    "\n",
    "uu = np.zeros_like(u)\n",
    "vv = np.zeros_like(v)\n",
    "uv = np.zeros_like(u*v)\n",
    "vu = np.zeros_like(v*u)\n",
    "\n",
    "cl.enqueue_copy(queue, uu, uu_1)\n",
    "cl.enqueue_copy(queue, uv, uv_1)\n",
    "cl.enqueue_copy(queue, vu, vu_1)\n",
    "cl.enqueue_copy(queue, vv, vv_1)\n",
    "# res_g = cl.Buffer(ctx, mf.WRITE_ONLY, a_np.nbytes)\n",
    "# prg.sum(queue, a_np.shape, None, a_g, b_g, res_g)\n",
    "\n",
    "# res_np = np.empty_like(a_np)\n",
    "# cl.enqueue_copy(queue, res_np, res_g)\n",
    "\n",
    "\n",
    "cosine= np.sum(uv)/(np.sum(uu) * np.sum(vv))**0.5\n",
    "\n",
    "print(f\"cosine:{cosine}\")"
   ]
  },
  {
   "cell_type": "code",
   "execution_count": null,
   "metadata": {},
   "outputs": [],
   "source": []
  }
 ],
 "metadata": {
  "kernelspec": {
   "display_name": "Python 3 (ipykernel)",
   "language": "python",
   "name": "python3"
  },
  "language_info": {
   "codemirror_mode": {
    "name": "ipython",
    "version": 3
   },
   "file_extension": ".py",
   "mimetype": "text/x-python",
   "name": "python",
   "nbconvert_exporter": "python",
   "pygments_lexer": "ipython3",
   "version": "3.7.13"
  }
 },
 "nbformat": 4,
 "nbformat_minor": 2
}
