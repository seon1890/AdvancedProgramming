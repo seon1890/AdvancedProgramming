{
 "cells": [
  {
   "cell_type": "markdown",
   "metadata": {},
   "source": [
    "**Advanced Python for Data Science**  \n",
    "**DS-GA 1019**\n",
    "\n",
    "\n",
    "## Homework Assignment 02  \n",
    "**Due date: Feb 15, 2023, 4:00PM**  "
   ]
  },
  {
   "cell_type": "markdown",
   "metadata": {},
   "source": [
    "### Instructions for submitting solutions for assignment 2: \n",
    "\n",
    "- Please submit only one zip file to NYU Classes, which contains **all your python solutions** and **one pdf file** with all of your answers.  \n",
    "\n",
    "- The submitted zip-file name should be as **\"spring2023_sol02_*nyuid*.zip\"**  \n",
    "\n",
    "\n",
    "- **e.g.** If your nyuid is \"ab1234\", the submission is \"spring2023_sol02_ab1234.zip\"  \n",
    "\n",
    "\n",
    "\n"
   ]
  },
  {
   "cell_type": "markdown",
   "metadata": {},
   "source": [
    "# Problem 1. (30pt)\n",
    "\n",
    "Write a function f(n) to calculate the number of ways of representing $n$ as a sum of 1, 2, and 5, where the order of summands is important. For example: \n",
    "\n",
    "---\n",
    "\n",
    "n = 1  \n",
    "1 = 1  \n",
    "f(1) = 1  \n",
    "\n",
    "---\n",
    "\n",
    "n = 2  \n",
    "2 = 1 + 1  \n",
    "2 = 2  \n",
    "f(2) = 2  \n",
    "\n",
    "---\n",
    "\n",
    "n = 3  \n",
    "3 = 1 + 1 + 1  \n",
    "3 = 1 + 2  \n",
    "3 = 2 + 1  \n",
    "f(3) = 3 \n",
    "\n",
    "---\n",
    "\n",
    "n = 5  \n",
    "5 = 1 + 1 + 1 + 1 + 1  \n",
    "5 = 1 + 1 + 1 + 2  \n",
    "5 = 1 + 1 + 2 + 1  \n",
    "5 = 1 + 2 + 1 + 1  \n",
    "5 = 2 + 1 + 1 + 1  \n",
    "5 = 2 + 2 + 1  \n",
    "5 = 2 + 1 + 2  \n",
    "5 = 1 + 2 + 2  \n",
    "5 = 5  \n",
    "f(5) = 9\n",
    "\n",
    "---\n",
    "\n",
    "(10pt) Write a recursive solution f_rec() without memoization and time it for $n=10, 25$.  \n",
    "\n",
    "(10pt) Write a recursive solution with memoization or a wrapper function f_memo() and time it for $n=10, 25, 50, 100$.  \n",
    "\n",
    "(10pt) Write an iterative solution f_it() and time it for $n=10, 25, 50, 100$.  \n",
    "\n"
   ]
  },
  {
   "cell_type": "code",
   "execution_count": 101,
   "metadata": {},
   "outputs": [
    {
     "name": "stdout",
     "output_type": "stream",
     "text": [
      "time taken to run recursive function 0.00018215179443359375\n"
     ]
    }
   ],
   "source": [
    "#(10pt) Write a recursive solution f_rec() without memoization and time it for  𝑛=10,25 .\n",
    "#As we can see, this is an extension of fibonacci series so we will utilize\n",
    "#fibonacci sequence algorithm for this problem\n",
    "import time\n",
    "st = time.time()\n",
    "def f_rec(n):\n",
    "    #base case\n",
    "    if n<=1:\n",
    "        return 1\n",
    "    result = f_rec(n-1)\n",
    "    \n",
    "    if n>= 2:\n",
    "        result = result+f_rec(n-2)\n",
    "    if n>= 5:\n",
    "        result = result+f_rec(n-5)\n",
    "    return result\n",
    "et = time.time()\n",
    "        \n",
    "time = et - st  \n",
    "print(\"time taken to run recursive function\", time)"
   ]
  },
  {
   "cell_type": "code",
   "execution_count": 102,
   "metadata": {},
   "outputs": [
    {
     "name": "stdout",
     "output_type": "stream",
     "text": [
      "f_rec(10) = 128 and time =  0.00012087821960449219\n"
     ]
    }
   ],
   "source": [
    "import time\n",
    "st = time.time()\n",
    "f_rec(10)\n",
    "et = time.time()\n",
    "times = et - st  \n",
    "print(\"f_rec(10) =\", f_rec(10), \"and time = \", times)"
   ]
  },
  {
   "cell_type": "code",
   "execution_count": 103,
   "metadata": {},
   "outputs": [
    {
     "name": "stdout",
     "output_type": "stream",
     "text": [
      "f_rec(10) = 382396 and time =  0.09416031837463379\n"
     ]
    }
   ],
   "source": [
    "import time\n",
    "st = time.time()\n",
    "f_rec(25)\n",
    "et = time.time()\n",
    "times = et - st  \n",
    "print(\"f_rec(10) =\", f_rec(25), \"and time = \", times)"
   ]
  },
  {
   "cell_type": "code",
   "execution_count": 104,
   "metadata": {},
   "outputs": [
    {
     "name": "stdout",
     "output_type": "stream",
     "text": [
      "time taken to run memo function 0.0001728534698486328\n"
     ]
    }
   ],
   "source": [
    "# (10pt) Write a recursive solution with memoization or a \n",
    "#wrapper function f_memo() and time it for  𝑛=10,25,50,100 .\n",
    "import time\n",
    "st = time.time()\n",
    "memo = {}\n",
    "def f_memo(n):\n",
    "    # memo = [0 for i in range(n)]\n",
    "    #base case\n",
    "    if n<=1:\n",
    "        return 1\n",
    "    \n",
    "    if n in memo:\n",
    "        return memo[n]\n",
    "    result = f_memo(n-1)\n",
    "    if n>= 2:\n",
    "        result = result+f_memo(n-2)\n",
    "    if n>= 5:\n",
    "        result = result+f_memo(n-5)\n",
    "    memo[n] = result\n",
    "    return result\n",
    "\n",
    "et = time.time()\n",
    "    \n",
    "time = et - st  \n",
    "print(\"time taken to run memo function\", time)  \n"
   ]
  },
  {
   "cell_type": "code",
   "execution_count": 105,
   "metadata": {},
   "outputs": [
    {
     "name": "stdout",
     "output_type": "stream",
     "text": [
      "f_memo(10) = 128 and time =  6.604194641113281e-05\n"
     ]
    }
   ],
   "source": [
    "import time\n",
    "st = time.time()\n",
    "f_memo(10)\n",
    "et = time.time()\n",
    "times = et - st  \n",
    "print(\"f_memo(10) =\", f_memo(10), \"and time = \", times)\n"
   ]
  },
  {
   "cell_type": "code",
   "execution_count": 106,
   "metadata": {},
   "outputs": [
    {
     "name": "stdout",
     "output_type": "stream",
     "text": [
      "f_memo(25) = 382396 and time =  5.412101745605469e-05\n"
     ]
    }
   ],
   "source": [
    "import time\n",
    "st = time.time()\n",
    "f_memo(10)\n",
    "et = time.time()\n",
    "times = et - st  \n",
    "print(\"f_memo(25) =\", f_memo(25), \"and time = \", times)\n"
   ]
  },
  {
   "cell_type": "code",
   "execution_count": 107,
   "metadata": {},
   "outputs": [
    {
     "name": "stdout",
     "output_type": "stream",
     "text": [
      "f_memo(50) = 237139442616 and time =  5.602836608886719e-05\n"
     ]
    }
   ],
   "source": [
    "import time\n",
    "st = time.time()\n",
    "f_memo(10)\n",
    "et = time.time()\n",
    "times = et - st  \n",
    "print(\"f_memo(50) =\", f_memo(50), \"and time = \", times)\n"
   ]
  },
  {
   "cell_type": "code",
   "execution_count": 108,
   "metadata": {},
   "outputs": [
    {
     "name": "stdout",
     "output_type": "stream",
     "text": [
      "f_memo(100) = 91197869007632925819218 and time =  5.91278076171875e-05\n"
     ]
    }
   ],
   "source": [
    "import time\n",
    "st = time.time()\n",
    "f_memo(10)\n",
    "et = time.time()\n",
    "times = et - st  \n",
    "print(\"f_memo(100) =\", f_memo(100), \"and time = \", times)"
   ]
  },
  {
   "cell_type": "code",
   "execution_count": 113,
   "metadata": {},
   "outputs": [],
   "source": [
    "#(10pt) Write an iterative solution f_it() and time it for  𝑛=10,25,50,100\n",
    "def f_it(n):\n",
    "    # memo = {}\n",
    "    if n<=1:\n",
    "        return 1\n",
    "    # memo = [0 for i in range(n+1)]\n",
    "    memo[0] = 1\n",
    "    memo[1] = 1\n",
    "    \n",
    "    for i in range(2, n+1):\n",
    "        memo[i] = memo[i-1]\n",
    "        if i>=2:\n",
    "            memo[i] = memo[i]+memo[i-2]\n",
    "        if i>=5:\n",
    "            memo[i] = memo[i]+memo[i-5]\n",
    "        return memo[n]\n"
   ]
  },
  {
   "cell_type": "code",
   "execution_count": 114,
   "metadata": {},
   "outputs": [
    {
     "name": "stdout",
     "output_type": "stream",
     "text": [
      "f_it(10) = 128 and time =  5.888938903808594e-05\n"
     ]
    }
   ],
   "source": [
    "import time\n",
    "st = time.time()\n",
    "f_it(10)\n",
    "et = time.time()\n",
    "times = et - st  \n",
    "print(\"f_it(10) =\", f_it(10), \"and time = \", times)"
   ]
  },
  {
   "cell_type": "code",
   "execution_count": 115,
   "metadata": {},
   "outputs": [
    {
     "name": "stdout",
     "output_type": "stream",
     "text": [
      "f_it(25) = 382396 and time =  5.793571472167969e-05\n"
     ]
    }
   ],
   "source": [
    "import time\n",
    "st = time.time()\n",
    "f_it(10)\n",
    "et = time.time()\n",
    "times = et - st  \n",
    "print(\"f_it(25) =\", f_it(25), \"and time = \", times)"
   ]
  },
  {
   "cell_type": "code",
   "execution_count": 116,
   "metadata": {},
   "outputs": [
    {
     "name": "stdout",
     "output_type": "stream",
     "text": [
      "f_it(50) = 237139442616 and time =  5.888938903808594e-05\n"
     ]
    }
   ],
   "source": [
    "import time\n",
    "st = time.time()\n",
    "f_it(10)\n",
    "et = time.time()\n",
    "times = et - st  \n",
    "print(\"f_it(50) =\", f_it(50), \"and time = \", times)"
   ]
  },
  {
   "cell_type": "code",
   "execution_count": 117,
   "metadata": {},
   "outputs": [
    {
     "name": "stdout",
     "output_type": "stream",
     "text": [
      "f_it(100) = 91197869007632925819218 and time =  5.984306335449219e-05\n"
     ]
    }
   ],
   "source": [
    "import time\n",
    "st = time.time()\n",
    "f_it(10)\n",
    "et = time.time()\n",
    "times = et - st  \n",
    "print(\"f_it(100) =\", f_it(100), \"and time = \", times)"
   ]
  },
  {
   "cell_type": "markdown",
   "metadata": {},
   "source": [
    "As we can see, the time gets faster and faster. This is because we reduce the time complexity of the function or code throughout. "
   ]
  },
  {
   "cell_type": "markdown",
   "metadata": {},
   "source": [
    "# Problem 2. (70%)\n",
    "\n",
    "An astrophysicist colleague was recently complaining about how long it was taking to run an N-body simulation. “It’s really just a simple calculation, and I’m only simulating four planets, but it takes nearly a minute and a half to run one simulation. I really need it done in under 30 seconds.” You kindly offer to take a look at code to see if it is possible to speed it up. Your colleague provides you with a link to the source: https://nyu-cds.github.io/courses/code/nbody.py\n",
    "\n",
    "\n",
    "Although your colleague said the code was simple, it is still fairly complex, so you decide to tackle the problem in stages. A first scan of the code reveals a number of potential areas that could be improved. These include:\n",
    "\n",
    "- Reducing function call overhead\n",
    "\n",
    "- Using alternatives to membership testing of lists \n",
    "\n",
    "- Using local rather than global variables \n",
    "\n",
    "- Using data aggregation to reduce loop overheads.\n",
    "\n",
    "As you’re a cautious programmer, you decide to address each of these in turn. This will ensure that it is possible to check the program is still working correctly after each change, and to assess the performance improvement that the change achieved. You are also aware that the program has to be maintained by others in the future, so you want to make sure that the changes do not make this more difficult, especially if the performance improvement is only minor.\n",
    "\n",
    "For each of these areas, create a new version of nbody.py, call them nbody_1.py, nbody_2.py, nbody_3.py, nbody_4.py. Finally, create another file called nbody_opt.py that contains all of the optimizations you made. \n",
    "\n",
    "\n",
    "Finally, generate a .pdf file with the four logs produced by the command in shell:\n",
    "\n",
    "for f in nbody_*.py; do python -m cProfile -s cumulative $f; done\n",
    "\n",
    "How much speedup do you get (time_original/time_optimized)?\n",
    "\n"
   ]
  }
 ],
 "metadata": {
  "kernelspec": {
   "display_name": "Python 3 (ipykernel)",
   "language": "python",
   "name": "python3"
  },
  "language_info": {
   "codemirror_mode": {
    "name": "ipython",
    "version": 3
   },
   "file_extension": ".py",
   "mimetype": "text/x-python",
   "name": "python",
   "nbconvert_exporter": "python",
   "pygments_lexer": "ipython3",
   "version": "3.7.13"
  }
 },
 "nbformat": 4,
 "nbformat_minor": 4
}
