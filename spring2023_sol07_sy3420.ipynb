{
 "cells": [
  {
   "cell_type": "markdown",
   "metadata": {},
   "source": [
    "### Homework 07: Concurrency\n",
    "\n",
    "## Due Date: Apr 5, 2023, 11:59pm\n",
    "\n",
    "#### Firstname Lastname: Seonhye Yang\n",
    "\n",
    "#### E-mail: sy3420@nyu.edu\n",
    "\n",
    "#### Enter your solutions and submit this notebook\n"
   ]
  },
  {
   "cell_type": "markdown",
   "metadata": {},
   "source": [
    "---\n",
    "\n",
    "**Problem 1** **(60 Points)**\n",
    "\n",
    "Let us consider the Gamma function, or the Euler integral of the second kind: \n",
    "\n",
    "$$\\Gamma(x) = \\int_{0} ^ \\infty t ^{x - 1} e^{-t} dt, $$\n",
    "\n",
    "and in this HW we consider real $x > 0$."
   ]
  },
  {
   "cell_type": "markdown",
   "metadata": {},
   "source": [
    "(Here is more on the Gamma function https://en.wikipedia.org/wiki/Gamma_function .\n",
    "It is not needed for this HW assignment.) "
   ]
  },
  {
   "cell_type": "markdown",
   "metadata": {},
   "source": [
    "**1.1 (Points 15)**: \n",
    "\n",
    "Write a function (in the cell below) that sequentially calculates the given Gamma integral.\n"
   ]
  },
  {
   "cell_type": "code",
   "execution_count": 50,
   "metadata": {},
   "outputs": [],
   "source": [
    "from math import exp\n",
    "import numpy as np\n",
    "import pandas as pd\n",
    "from multiprocessing import cpu_count\n",
    "from queue import Queue\n",
    "from threading import Thread\n",
    "from multiprocessing.pool import Pool\n",
    "import logging\n",
    "import time\n",
    "import math\n",
    "from threading import Lock"
   ]
  },
  {
   "cell_type": "code",
   "execution_count": 51,
   "metadata": {},
   "outputs": [],
   "source": [
    "def calculate_gamma(x, bound_1, bound_2, number_of_steps):\n",
    "    # sequential version to calculate Gamma(x):\n",
    "    # where we approximate the given integral,\n",
    "    # like this a discrete sum in number_of_steps\n",
    "    # equidistant points on the interval [bound_1, bound_2]\n",
    "    \n",
    "    bounds = (bound_2 - bound_1)/number_of_steps\n",
    "    gamma = 0\n",
    "    \n",
    "    for i in range(number_of_steps):\n",
    "        t_i = bound_1 + (i + 0.5) * bounds\n",
    "        gamma = gamma + (t_i ** (x - 1)) * exp(-t_i) * bounds\n",
    "        \n",
    "    \n",
    "    # return Gamma(x)\n",
    "    return gamma"
   ]
  },
  {
   "cell_type": "markdown",
   "metadata": {},
   "source": [
    "**1.2 (Points 5)** \n",
    "\n",
    "Evaluate, $\\Gamma(6)$ by using `calculate_gamma(x, bound_1, bound_2, number_of_steps)` and the error of this computation.\n",
    "\n",
    "\n",
    "As arguments, use `x=6, bound_1=0, bound_2=1000, number_of_steps=10_000_000`. We know that $\\Gamma(x) = x!$, so $\\Gamma(6) = 5! = 120$. \n"
   ]
  },
  {
   "cell_type": "code",
   "execution_count": 52,
   "metadata": {},
   "outputs": [
    {
     "name": "stdout",
     "output_type": "stream",
     "text": [
      "119.9999999999461\n"
     ]
    }
   ],
   "source": [
    "gamma_function = calculate_gamma(6, bound_1 = 0, bound_2 = 1000, number_of_steps = 10000000)\n",
    "\n",
    "print(gamma_function)"
   ]
  },
  {
   "cell_type": "code",
   "execution_count": 67,
   "metadata": {},
   "outputs": [
    {
     "name": "stdout",
     "output_type": "stream",
     "text": [
      "error for this computation is -5.39017719347612e-11\n"
     ]
    }
   ],
   "source": [
    "#calculating the error\n",
    "print('error for this computation is', gamma_function - math.factorial(5))\n"
   ]
  },
  {
   "cell_type": "markdown",
   "metadata": {},
   "source": [
    "---\n",
    "\n",
    "Write two functions to calculate $\\Gamma(x)$ by using:\n",
    "\n",
    "\n",
    "\n",
    "**1.3.1 (Points 15)**\n",
    "**threading** with N=4 threads; \n",
    "\n",
    "**1.3.2 (Points 15)**\n",
    "**multiprocessing** with N=4 processes. \n",
    "\n",
    "\n",
    "**1.3.3 (Points 10)** \n",
    "Compare the times of the three versions and write a short explanation of what you are observing.\n",
    "\n",
    "How does the answer change when N=8 and why?\n",
    "\n",
    "    "
   ]
  },
  {
   "cell_type": "markdown",
   "metadata": {},
   "source": [
    "**1.3.1**"
   ]
  },
  {
   "cell_type": "code",
   "execution_count": 54,
   "metadata": {},
   "outputs": [],
   "source": [
    "step = 1000/10000000\n",
    "bound = np.arange(0,1000+step,step)\n",
    "intervals = []\n",
    "for i in range(0,len(bound)-1000,1000):\n",
    "    results = bound[i:i+1000+1]\n",
    "    intervals.append(results)"
   ]
  },
  {
   "cell_type": "code",
   "execution_count": 62,
   "metadata": {},
   "outputs": [],
   "source": [
    "y = 0\n",
    "def gamma_threading(x, a, step):\n",
    "    global y\n",
    "    while True:\n",
    "        a = q.get()\n",
    "        if a is None:\n",
    "            q.task_done()\n",
    "            break\n",
    "        for i in range(len(a)-1):\n",
    "            res1 = (a[i]**(x-1))*math.exp(-a[i])\n",
    "            res2 = (a[i+1]**(x-1))*math.exp(-a[i+1])\n",
    "\n",
    "            height = res1 if res2 >= res1 else res2\n",
    "            with Lock():\n",
    "                y += height*step\n",
    "        q.task_done()"
   ]
  },
  {
   "cell_type": "code",
   "execution_count": 63,
   "metadata": {},
   "outputs": [
    {
     "name": "stdout",
     "output_type": "stream",
     "text": [
      "N threads = 4 result is ... 119.71997895833506\n",
      "Time taken is 19.72249698638916 seconds\n"
     ]
    }
   ],
   "source": [
    "start_time = time.time()\n",
    "q=Queue()\n",
    "num_threads=4\n",
    "for i in range(num_threads):\n",
    "    worker = Thread(target=gamma_threading,args=(6,q,step))\n",
    "    worker.setDaemon(True)\n",
    "    worker.start()\n",
    "\n",
    "for a in intervals:\n",
    "    q.put(a)\n",
    "\n",
    "q.join()\n",
    "end_time = time.time()\n",
    "\n",
    "print(f'N threads = 4 result is ... {y}')\n",
    "print(f'Time taken is {end_time - start_time} seconds')\n"
   ]
  },
  {
   "cell_type": "code",
   "execution_count": 65,
   "metadata": {},
   "outputs": [
    {
     "name": "stdout",
     "output_type": "stream",
     "text": [
      "N threads = 4 result is ... 118.2323173190342\n",
      "Time taken is 19.934449911117554 seconds\n"
     ]
    }
   ],
   "source": [
    "start_time = time.time()\n",
    "q=Queue()\n",
    "num_threads=8\n",
    "for i in range(num_threads):\n",
    "    worker = Thread(target=gamma_threading,args=(6,q,step))\n",
    "    worker.setDaemon(True)\n",
    "    worker.start()\n",
    "\n",
    "for a in intervals:\n",
    "    q.put(a)\n",
    "\n",
    "q.join()\n",
    "end_time = time.time()\n",
    "\n",
    "print(f'N threads = 4 result is ... {y}')\n",
    "print(f'Time taken is {end_time - start_time} seconds')\n"
   ]
  },
  {
   "cell_type": "markdown",
   "metadata": {},
   "source": [
    "**1.3.2**"
   ]
  },
  {
   "cell_type": "code",
   "execution_count": 19,
   "metadata": {},
   "outputs": [],
   "source": [
    "def gamma_multi(x,a):\n",
    "    j=0\n",
    "    for i in range(len(a)-1):\n",
    "        res1 = (a[i]**(x-1))*math.exp(-a[i])\n",
    "        res2 = (a[i+1]**(x-1))*math.exp(-a[i+1])\n",
    "\n",
    "        height = res1 if res2 >= res1 else res2\n",
    "        j+=height*step\n",
    "    return j\n"
   ]
  },
  {
   "cell_type": "code",
   "execution_count": 20,
   "metadata": {},
   "outputs": [],
   "source": [
    "step = 1000/10000000\n",
    "bound = np.arange(0,1000+step,step)\n",
    "intervals = []\n",
    "for i in range(0,len(bound)-1000,1000):\n",
    "    results = bound[i:i+1000+1]\n",
    "    intervals.append(results)"
   ]
  },
  {
   "cell_type": "code",
   "execution_count": 21,
   "metadata": {},
   "outputs": [
    {
     "name": "stdout",
     "output_type": "stream",
     "text": [
      "N threads = 4 result is ... 119.9978943915628\n",
      "Finished in 4.431375026702881 seconds\n"
     ]
    }
   ],
   "source": [
    "start_time = time.time()\n",
    "\n",
    "thread_n = 4\n",
    "lis = []\n",
    "for a in intervals:\n",
    "    lis.append((6, a))\n",
    "\n",
    "with Pool(thread_n) as p:\n",
    "    results = p.starmap(gamma_multi,lis)\n",
    "\n",
    "\n",
    "end_time = time.time()\n",
    "\n",
    "print(f'N threads = {thread_n} result is ... {np.sum(results)}')\n",
    "print(f'Time taken is {end_time - start_time} seconds')"
   ]
  },
  {
   "cell_type": "code",
   "execution_count": 23,
   "metadata": {},
   "outputs": [
    {
     "name": "stdout",
     "output_type": "stream",
     "text": [
      "N threads = 8 result is ... 119.9978943915628\n",
      "Finished in 3.314188003540039 seconds\n"
     ]
    }
   ],
   "source": [
    "start_time = time.time()\n",
    "\n",
    "thread_n = 8\n",
    "lis = []\n",
    "for a in intervals:\n",
    "    lis.append((6, a))\n",
    "\n",
    "with Pool(thread_n) as p:\n",
    "    results = p.starmap(gamma_multi,lis)\n",
    "    \n",
    "end_time = time.time()\n",
    "\n",
    "print(f'N threads = {thread_n} result is ... {np.sum(results)}')\n",
    "print(f'Time taken is {end_time - start_time} seconds')"
   ]
  },
  {
   "cell_type": "markdown",
   "metadata": {},
   "source": [
    "**1.3.3** \n",
    "\n",
    "What I am noticing here is that multiprocess takes a shorter amount of time than that of threading. Threading takes about 19 seconds on average and multiprocessing takes about 4 seconds. \n",
    "\n",
    "As we increase n to 8, the timing decreases a little bit. This depends on various factors. When N is increased to 8 beyound the number of avaiilable CPU cores, it might deteriorate. However, if the workload is sufficiently parallelizable and the number of available CPU cores is not entirely utilized, increased N can lead to improvements in performance."
   ]
  },
  {
   "cell_type": "markdown",
   "metadata": {},
   "source": [
    "---\n",
    "\n",
    "**Problem 2 (40 points)**\n",
    "\n",
    "__Website uptime__ is the time that a website or web service is available to the users over a given period.\n",
    "\n",
    "The task is to build an application that checks the uptime of websites. \n",
    "\n",
    "- The application should go over a list of website URLs and checks if those websites are up.\n",
    "- Instead of performing a classic HTTP GET request, it performs a HEAD request so that it does not affect traffic significantly.\n",
    "- If the HTTP status is in the danger ranges (400+, 500+), a message is casted. \n",
    "\n",
    "Here are some useful functions:"
   ]
  },
  {
   "cell_type": "code",
   "execution_count": 24,
   "metadata": {},
   "outputs": [],
   "source": [
    "#### _website uptimer_ ####\n",
    "\n",
    "import time\n",
    "import logging\n",
    "import requests\n",
    " \n",
    "class WebsiteDownException(Exception):\n",
    "    pass\n",
    " \n",
    "def ping_website(address, timeout=20):\n",
    "    \"\"\"\n",
    "    Check if a website is down. A website is considered down \n",
    "    if either the status_code >= 400 or if the timeout expires\n",
    "     \n",
    "    Throw a WebsiteDownException if any of the website down conditions are met\n",
    "    \"\"\"\n",
    "    try:\n",
    "        response = requests.head(address, timeout=timeout)\n",
    "        if response.status_code >= 400:\n",
    "            logging.warning(\"Website %s returned status_code=%s\" % (address, response.status_code))\n",
    "            raise WebsiteDownException()\n",
    "    except requests.exceptions.RequestException:\n",
    "        logging.warning(\"Timeout expired for website %s\" % address)\n",
    "        raise WebsiteDownException()\n",
    "         \n",
    "def check_website(address):\n",
    "    \"\"\"\n",
    "    Utility function: check if a website is down, if so, notify the user\n",
    "    \"\"\"\n",
    "    try:\n",
    "        ping_website(address)\n",
    "    except WebsiteDownException:\n",
    "        print('The websie ' + address + ' is down')"
   ]
  },
  {
   "cell_type": "markdown",
   "metadata": {},
   "source": [
    "---\n",
    "\n",
    "You need a website list to try our system out. Create your own list or use the following one. \n",
    "\n",
    "---"
   ]
  },
  {
   "cell_type": "code",
   "execution_count": 25,
   "metadata": {},
   "outputs": [],
   "source": [
    "WEBSITE_LIST = [\n",
    "    'http://amazon.co.uk',\n",
    "    'http://amazon.com',\n",
    "    'http://facebook.com',\n",
    "    'http://google.com',\n",
    "    'http://google.fr',\n",
    "    'http://google.es',\n",
    "    'http://google.co.uk',\n",
    "    'http://gmail.com',\n",
    "    'http://stackoverflow.com',\n",
    "    'http://github.com',\n",
    "    'http://heroku.com',\n",
    "    'http://really-cool-available-domain.com',\n",
    "    'http://djangoproject.com',\n",
    "    'http://rubyonrails.org',\n",
    "    'http://basecamp.com',\n",
    "    'http://trello.com',\n",
    "    'http://shopify.com',\n",
    "    'http://another-really-interesting-domain.co',\n",
    "    'http://airbnb.com',\n",
    "    'http://instagram.com',\n",
    "    'http://snapchat.com',\n",
    "    'http://youtube.com',\n",
    "    'http://baidu.com',\n",
    "    'http://yahoo.com',\n",
    "    'http://live.com',\n",
    "    'http://linkedin.com',\n",
    "    'http://netflix.com',\n",
    "    'http://wordpress.com',\n",
    "    'http://bing.com',\n",
    "]"
   ]
  },
  {
   "cell_type": "markdown",
   "metadata": {},
   "source": [
    "---\n",
    "\n",
    "A serial version of the _website uptimer_ can be written as: \n",
    "\n",
    "---\n"
   ]
  },
  {
   "cell_type": "code",
   "execution_count": 26,
   "metadata": {},
   "outputs": [
    {
     "name": "stderr",
     "output_type": "stream",
     "text": [
      "WARNING:root:Timeout expired for website http://really-cool-available-domain.com\n"
     ]
    },
    {
     "name": "stdout",
     "output_type": "stream",
     "text": [
      "The websie http://really-cool-available-domain.com is down\n"
     ]
    },
    {
     "name": "stderr",
     "output_type": "stream",
     "text": [
      "WARNING:root:Timeout expired for website http://another-really-interesting-domain.co\n"
     ]
    },
    {
     "name": "stdout",
     "output_type": "stream",
     "text": [
      "The websie http://another-really-interesting-domain.co is down\n",
      "Time for Serial: 3.563690185546875secs\n"
     ]
    }
   ],
   "source": [
    "import time\n",
    " \n",
    "start_time = time.time()\n",
    " \n",
    "for address in WEBSITE_LIST:\n",
    "    check_website(address)\n",
    "         \n",
    "end_time = time.time()        \n",
    " \n",
    "print(\"Time for Serial: %ssecs\" % (end_time - start_time))"
   ]
  },
  {
   "cell_type": "markdown",
   "metadata": {},
   "source": [
    "You should build two versions of the **website uptimer**, by using:\n",
    "\n",
    "**2.1 (Points 15)**\n",
    "**threading** with N=4 threads; \n",
    "\n",
    "**2.2 (Points 15)**\n",
    "**multiprocessing** with N=4 processes. \n",
    "\n",
    "\n",
    "**2.3 (Points 10)** \n",
    "\n",
    "Compare the times of the three versions and write a short explanation of what you are observing.\n",
    "\n",
    "How does the answer change when N=8 and why?\n"
   ]
  },
  {
   "cell_type": "markdown",
   "metadata": {},
   "source": [
    "**2.1**"
   ]
  },
  {
   "cell_type": "code",
   "execution_count": 68,
   "metadata": {},
   "outputs": [],
   "source": [
    "def website_threading(link):\n",
    "    while True:\n",
    "        link = q.get()\n",
    "        try:\n",
    "            ping_website(link)\n",
    "        except WebsiteDownException:\n",
    "            for link in WEBSITE_LIST:\n",
    "                check_website(link)\n",
    "        q.task_done()"
   ]
  },
  {
   "cell_type": "code",
   "execution_count": 69,
   "metadata": {},
   "outputs": [
    {
     "name": "stderr",
     "output_type": "stream",
     "text": [
      "WARNING:root:Timeout expired for website http://really-cool-available-domain.com\n",
      "WARNING:root:Timeout expired for website http://another-really-interesting-domain.co\n",
      "WARNING:root:Timeout expired for website http://really-cool-available-domain.com\n",
      "WARNING:root:Timeout expired for website http://really-cool-available-domain.com\n"
     ]
    },
    {
     "name": "stdout",
     "output_type": "stream",
     "text": [
      "The websie http://really-cool-available-domain.com is down\n",
      "The websie http://really-cool-available-domain.com is down\n"
     ]
    },
    {
     "name": "stderr",
     "output_type": "stream",
     "text": [
      "WARNING:root:Timeout expired for website http://another-really-interesting-domain.co\n",
      "WARNING:root:Timeout expired for website http://another-really-interesting-domain.co\n"
     ]
    },
    {
     "name": "stdout",
     "output_type": "stream",
     "text": [
      "The websie http://another-really-interesting-domain.co is down\n",
      "The websie http://another-really-interesting-domain.co is down\n",
      "Time for Threading4 2.8732500076293945\n"
     ]
    }
   ],
   "source": [
    "start_time = time.time()\n",
    "q = Queue()\n",
    "thread_n = 4\n",
    "for i in range(thread_n):\n",
    "    worker = Thread(target=website_threading, args=(q,))\n",
    "    worker.setDaemon(True)\n",
    "    worker.start()\n",
    "    \n",
    "for link in WEBSITE_LIST:\n",
    "    q.put(link)\n",
    "\n",
    "q.join()\n",
    "end_time = time.time()\n",
    "print(f'Time for Threading{thread_n}', (end_time - start_time))"
   ]
  },
  {
   "cell_type": "code",
   "execution_count": 70,
   "metadata": {},
   "outputs": [
    {
     "name": "stderr",
     "output_type": "stream",
     "text": [
      "WARNING:root:Timeout expired for website http://really-cool-available-domain.com\n",
      "WARNING:root:Timeout expired for website http://another-really-interesting-domain.co\n",
      "WARNING:root:Timeout expired for website http://baidu.com\n",
      "WARNING:root:Timeout expired for website http://really-cool-available-domain.com\n",
      "WARNING:root:Timeout expired for website http://really-cool-available-domain.com\n"
     ]
    },
    {
     "name": "stdout",
     "output_type": "stream",
     "text": [
      "The websie http://really-cool-available-domain.com is down\n",
      "The websie http://really-cool-available-domain.com is down\n"
     ]
    },
    {
     "name": "stderr",
     "output_type": "stream",
     "text": [
      "WARNING:root:Timeout expired for website http://another-really-interesting-domain.co\n",
      "WARNING:root:Timeout expired for website http://another-really-interesting-domain.co\n"
     ]
    },
    {
     "name": "stdout",
     "output_type": "stream",
     "text": [
      "The websie http://another-really-interesting-domain.co is down\n",
      "The websie http://another-really-interesting-domain.co is down\n"
     ]
    },
    {
     "name": "stderr",
     "output_type": "stream",
     "text": [
      "WARNING:root:Timeout expired for website http://really-cool-available-domain.com\n"
     ]
    },
    {
     "name": "stdout",
     "output_type": "stream",
     "text": [
      "The websie http://really-cool-available-domain.com is down\n"
     ]
    },
    {
     "name": "stderr",
     "output_type": "stream",
     "text": [
      "WARNING:root:Timeout expired for website http://another-really-interesting-domain.co\n",
      "WARNING:root:Timeout expired for website http://baidu.com\n"
     ]
    },
    {
     "name": "stdout",
     "output_type": "stream",
     "text": [
      "The websie http://another-really-interesting-domain.co is down\n",
      "The websie http://baidu.com is down\n",
      "Time for Threading8 2.852005958557129\n"
     ]
    }
   ],
   "source": [
    "start_time = time.time()\n",
    "q = Queue()\n",
    "thread_n = 8\n",
    "for i in range(thread_n):\n",
    "    worker = Thread(target=website_threading, args=(q, ))\n",
    "    worker.setDaemon(True)\n",
    "    worker.start()\n",
    "    \n",
    "for link in WEBSITE_LIST:\n",
    "    q.put(link)\n",
    "\n",
    "q.join()\n",
    "end_time = time.time()\n",
    "print(f'Time for Threading{thread_n}', (end_time - start_time))"
   ]
  },
  {
   "cell_type": "markdown",
   "metadata": {},
   "source": [
    "**2.2**"
   ]
  },
  {
   "cell_type": "code",
   "execution_count": 75,
   "metadata": {},
   "outputs": [],
   "source": [
    "def check_websites(thread_n, addresses):\n",
    "    with Pool(processes=thread_n) as pool:\n",
    "        pool.map(check_website, addresses)"
   ]
  },
  {
   "cell_type": "code",
   "execution_count": 76,
   "metadata": {},
   "outputs": [
    {
     "name": "stderr",
     "output_type": "stream",
     "text": [
      "WARNING:root:Timeout expired for website http://really-cool-available-domain.com\n"
     ]
    },
    {
     "name": "stdout",
     "output_type": "stream",
     "text": [
      "The websie http://really-cool-available-domain.com is down\n"
     ]
    },
    {
     "name": "stderr",
     "output_type": "stream",
     "text": [
      "WARNING:root:Timeout expired for website http://another-really-interesting-domain.co\n"
     ]
    },
    {
     "name": "stdout",
     "output_type": "stream",
     "text": [
      "The websie http://another-really-interesting-domain.co is down\n",
      "Time for Pool4 1.0622408390045166\n"
     ]
    }
   ],
   "source": [
    "start_time = time.time()\n",
    "\n",
    "thread_n = 4\n",
    "\n",
    "check_websites(thread_n, WEBSITE_LIST)\n",
    "         \n",
    "end_time = time.time()        \n",
    " \n",
    "print(f'Time for Pool{thread_n}', (end_time - start_time))"
   ]
  },
  {
   "cell_type": "code",
   "execution_count": 77,
   "metadata": {},
   "outputs": [
    {
     "name": "stderr",
     "output_type": "stream",
     "text": [
      "WARNING:root:Timeout expired for website http://really-cool-available-domain.com\n"
     ]
    },
    {
     "name": "stdout",
     "output_type": "stream",
     "text": [
      "The websie http://really-cool-available-domain.com is down\n"
     ]
    },
    {
     "name": "stderr",
     "output_type": "stream",
     "text": [
      "WARNING:root:Timeout expired for website http://another-really-interesting-domain.co\n"
     ]
    },
    {
     "name": "stdout",
     "output_type": "stream",
     "text": [
      "The websie http://another-really-interesting-domain.co is down\n",
      "Time for Pool8 0.8827729225158691\n"
     ]
    }
   ],
   "source": [
    "start_time = time.time()\n",
    "\n",
    "thread_n = 8\n",
    "\n",
    "check_websites(thread_n, WEBSITE_LIST)\n",
    "         \n",
    "end_time = time.time()        \n",
    "\n",
    "print(f'Time for Pool{thread_n}', (end_time - start_time))"
   ]
  },
  {
   "cell_type": "markdown",
   "metadata": {},
   "source": [
    "**2.3** \n",
    "\n",
    "\n",
    "What I am noticing here is that multiprocess takes a shorter amount of time than that of threading. Threading takes about 3 seconds on average and multiprocessing takes about 1 seconds. \n",
    "\n",
    "As we increase n to 8, the timing decreases a little bit. This depends on vvarious factors. When N is increased to 8 beyound the number of avaiilable CPU cores, it might deteriorate. However, if the workload is sufficiently parallelizable and the number of available CPU cores is not entirely utilized, increased N can lead to improvements in performance."
   ]
  }
 ],
 "metadata": {
  "kernelspec": {
   "display_name": "Python 3 (ipykernel)",
   "language": "python",
   "name": "python3"
  },
  "language_info": {
   "codemirror_mode": {
    "name": "ipython",
    "version": 3
   },
   "file_extension": ".py",
   "mimetype": "text/x-python",
   "name": "python",
   "nbconvert_exporter": "python",
   "pygments_lexer": "ipython3",
   "version": "3.7.13"
  }
 },
 "nbformat": 4,
 "nbformat_minor": 2
}
