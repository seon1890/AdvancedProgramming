{
 "cells": [
  {
   "cell_type": "markdown",
   "metadata": {},
   "source": [
    "## Homework 09:  Parallel Programming 02\n",
    "\n",
    "## Due Date: Apr 19, 2023, 11:59pm\n",
    "\n",
    "#### Firstname Lastname: Seonhye Yang\n",
    "\n",
    "#### E-mail: sy3420@nyu.edu\n",
    "\n",
    "#### Enter your solutions and submit this notebook"
   ]
  },
  {
   "cell_type": "markdown",
   "metadata": {},
   "source": [
    "---\n",
    "\n",
    "**Problem 1 (40p)**\n",
    "\n",
    "In this problem the goal is to calculate the mean and standard deviation of a large list of numbers by using Reduction as one of Collective Operations, see Lecture 11. \n",
    "\n",
    "\n",
    "Consider $N = 256000$ random variables uniform on $[0, 1]$, call these $x_0, x_1, \\dots, x_{N - 1}$.  \n",
    "\n",
    "\n",
    "Write an MPI program with $N=16$ processes that outputs the average and standard deviation of $x_0, x_1, \\dots, x_{N - 1}$.\n",
    "\n",
    "\n",
    "To simplify the problem, let one process, say `Process 0`, independently draws $N$ samples uniformly on $[0, 1]$.\n",
    "\n",
    "How do you explain the results?\n",
    "\n",
    "\n",
    "**Instructions:** \n",
    "Your program should use MPI4PY and collective operations. \n",
    "Save your program as 2020_spring_sol09_pr01.py and run it from the terminal as:\n",
    "\n",
    "```\n",
    "mpirun -n 16 python 2020_spring_sol09_pr01.py\n",
    "```\n"
   ]
  },
  {
   "cell_type": "code",
   "execution_count": 112,
   "metadata": {},
   "outputs": [
    {
     "name": "stdout",
     "output_type": "stream",
     "text": [
      "Overwriting 2023_spring_sol09_pr01.py\n"
     ]
    }
   ],
   "source": [
    "%%writefile 2023_spring_sol09_pr01.py\n",
    "\n",
    "from mpi4py import MPI\n",
    "import numpy as np\n",
    "import statistics\n",
    "\n",
    "\n",
    "comm = MPI.COMM_WORLD\n",
    "rank = comm.Get_rank()\n",
    "size = comm.Get_size()\n",
    "\n",
    "n = 256000\n",
    "\n",
    "if rank == 0:\n",
    "    data = np.random.random(n).astype('f').reshape(size, int(n/size))    \n",
    "#     data = float(np.random.random(n).reshape(size, int(n/size)))  \n",
    "    \n",
    "if rank != 0:\n",
    "    data = None\n",
    "\n",
    "zeros = np.zeros(int(n/size), dtype='f')\n",
    "\n",
    "\n",
    "comm.Scatter(data,zeros, root = 0)\n",
    "\n",
    "data = comm.bcast(data, root=0)\n",
    "comm.Bcast(data, root=0)\n",
    "\n",
    "# n = size * 2\n",
    "# m = 5\n",
    "# if rank == 0:\n",
    "#     A = np.random.randn(n, m)\n",
    "#     x = np.random.randn(m)\n",
    "\n",
    "#     ytarget = A.dot(x) # to check the result\n",
    "    \n",
    "#     A = A.reshape(size, -1, m)\n",
    "# else:\n",
    "#     A = None\n",
    "#     x = np.zeros(m)\n",
    "\n",
    "# Asmall = np.zeros((n // size, m))\n",
    "\n",
    "# # Asmall = comm.scatter(A, root=0)\n",
    "# comm.Scatter(A, Asmall, root=0)\n",
    "\n",
    "# # x = comm.bcast(x, root=0)\n",
    "# comm.Bcast(x, root=0)\n",
    "\n",
    "# print('rank', rank, ':', Asmall.shape, x.shape)\n",
    "\n",
    "globalsums = comm.allreduce(sum(zeros), MPI.SUM)\n",
    "avg = globalsums / n\n",
    "\n",
    "\n",
    "diff = sum(map(lambda i: (i - avg)**2, zeros))\n",
    "\n",
    "globaldiff = comm.reduce(diff, MPI.SUM, 0)\n",
    "\n",
    "print(rank, sum(zeros))\n",
    "# print('==================================================================')\n",
    "if rank == 0:\n",
    "    std = np.sqrt(globaldiff / n)\n",
    "#     print('==================================================================')\n",
    "    print('Mean = ', avg, 'Standard deviation =', std)\n",
    "else:\n",
    "    None"
   ]
  },
  {
   "cell_type": "code",
   "execution_count": 113,
   "metadata": {},
   "outputs": [
    {
     "name": "stdout",
     "output_type": "stream",
     "text": [
      "3 7969.072311292005\r\n",
      "11 8032.97866295241\r\n",
      "9 7990.850889774534\r\n",
      "10 8031.202948563525\r\n",
      "12 8022.812618252021\r\n",
      "14 8041.512061482206\r\n",
      "13 8047.899874919218\r\n",
      "7 8004.5025486057275\r\n",
      "5 8013.518146395676\r\n",
      "2 7942.786519835076\r\n",
      "6 8016.321328463593\r\n",
      "8 7953.971118859212\r\n",
      "15 7978.104012428164\r\n",
      "4 7957.217837076101\r\n",
      "1 7961.435503704095\r\n",
      "0 7982.784157105474\r\n",
      "Mean =  0.49979285367073845 Standard deviation 0.2880715477530028\r\n"
     ]
    }
   ],
   "source": [
    "!mpirun -n 16 python3 2023_spring_sol09_pr01.py"
   ]
  },
  {
   "cell_type": "markdown",
   "metadata": {},
   "source": [
    "I would say that this has a mean of 0.4999 and standard deviation of 0.288. Standard deviation is pretty low which indicates that the distribution is pretty squished. The results are printed only in the root process. The standard deviations are printed in the root process shows the mean and standard deviations are computed using MPI. "
   ]
  },
  {
   "cell_type": "markdown",
   "metadata": {},
   "source": [
    "\n",
    "---\n",
    "**Problem 2 (60p)**\n",
    "\n",
    "In this problem the goal is to demonstrate how one can use a Domain Decomposition and  Collective Operations. \n",
    "\n",
    "Consider the exponential distribution $X \\sim \\textrm{Exp}(1)$ with the unit mean. Find numerical approximations of moments of the exponential random variable. \n",
    "\n",
    "That is, for a random variable $X$ with the distribution $f(x) = e^{-x}$ for $x \\geq 0$, compute the first $15$ moments, where the $k$-th moment is defined as:\n",
    "$$I_k = \\int_{0}^{\\infty} x^k f(x) dx.$$\n",
    "\n",
    "\n",
    "Your program should use MPI parallel collective instructions, where the integration is performed in parallel over $N=16$ processes, over a finite range $[0, M)$, where $M=1000$, with $N = 16$ partitions and $1000$ increments per partition, see Lecture 10 and 11.\n",
    "\n",
    "Provide evaluations of $J_1, J_2, \\dots, J_{15}$, where $$J_k = \\int_{0}^{M} x^k f(x) dx.$$\n",
    "\n",
    "\n",
    "**Instructions:** \n",
    "\n",
    "Save your program as 2020_sol09_pr02.py; and run it from the terminal as:\n",
    "\n",
    "```\n",
    "mpirun -n 16 python 2020_spring_sol09_pr02.py\n",
    "```\n",
    "\n",
    "\n",
    "**Bonus Question (10 points):** \n",
    "\n",
    "What is the value of $I_k$, as a function of $k$? How can it be derived?"
   ]
  },
  {
   "cell_type": "code",
   "execution_count": 100,
   "metadata": {},
   "outputs": [
    {
     "name": "stdout",
     "output_type": "stream",
     "text": [
      "Overwriting 2020_spring_sol09_pr02.py\n"
     ]
    }
   ],
   "source": [
    "%%writefile 2020_spring_sol09_pr02.py\n",
    "\n",
    "import numpy as np\n",
    "from numpy import pi, exp, sqrt\n",
    "from mpi4py import MPI\n",
    "\n",
    "comm = MPI.COMM_WORLD\n",
    "rank = comm.Get_rank()\n",
    "size = comm.Get_size()\n",
    "\n",
    "# def integral(a_r, h, n):\n",
    "#     integ = 0.0\n",
    "#     for j in range(n):\n",
    "#         t = a_r + (j + 0.5) * h\n",
    "#         integ += sin(t) * h\n",
    "#     return integ\n",
    "\n",
    "def integral(a_r, h, n, K):\n",
    "    \n",
    "    integ = np.zeros(K)\n",
    "    for j in range(n):\n",
    "        t = a_r + (j + 0.5) * h\n",
    "        integs = []\n",
    "        for i in range(1, K+1):\n",
    "            integs.append(t**i*exp(-t))\n",
    "        integ = integ+np.array(integs)\n",
    "    integ = h*integ\n",
    "    return integ\n",
    "\n",
    "\n",
    "\n",
    "# a = 0.0\n",
    "# b = numpy.pi / 2\n",
    "# dest = 0\n",
    "# my_int = numpy.zeros(1)\n",
    "# integral_sum = numpy.zeros(1)\n",
    "K = 16\n",
    "M = 1000\n",
    "integral_sum = np.zeros(16)\n",
    "n = np.array(1000)\n",
    "h = M/(n*size) \n",
    "a_r = rank*h*n\n",
    "\n",
    "my_int = integral(a_r, h, n, K)\n",
    "\n",
    "comm.Reduce(my_int, integral_sum, MPI.SUM, root=0)\n",
    "\n",
    "# print(\"Process \", rank, \" has the partial integral \", my_int[0])\n",
    "\n",
    "# Initialize value of n only if this is rank 0\n",
    "if rank == 0:\n",
    "    for i in range(K):\n",
    "        print((i, integral_sum[i]))\n"
   ]
  },
  {
   "cell_type": "code",
   "execution_count": 101,
   "metadata": {},
   "outputs": [
    {
     "name": "stdout",
     "output_type": "stream",
     "text": [
      "(0, 1.0001627047952104)\r\n",
      "(1, 2.0000001112238226)\r\n",
      "(2, 5.99999988885252)\r\n",
      "(3, 23.999999999771028)\r\n",
      "(4, 120.00000000022848)\r\n",
      "(5, 719.9999999999999)\r\n",
      "(6, 5040.000000000001)\r\n",
      "(7, 40320.00000000004)\r\n",
      "(8, 362879.9999999999)\r\n",
      "(9, 3628800.0000000023)\r\n",
      "(10, 39916799.99999997)\r\n",
      "(11, 479001600.0000007)\r\n",
      "(12, 6227020800.000004)\r\n",
      "(13, 87178291200.0002)\r\n",
      "(14, 1307674368000.0007)\r\n",
      "(15, 20922789887999.992)\r\n"
     ]
    }
   ],
   "source": [
    "!mpirun -n 16 python 2020_spring_sol09_pr02.py"
   ]
  }
 ],
 "metadata": {
  "kernelspec": {
   "display_name": "Python 3 (ipykernel)",
   "language": "python",
   "name": "python3"
  },
  "language_info": {
   "codemirror_mode": {
    "name": "ipython",
    "version": 3
   },
   "file_extension": ".py",
   "mimetype": "text/x-python",
   "name": "python",
   "nbconvert_exporter": "python",
   "pygments_lexer": "ipython3",
   "version": "3.7.13"
  }
 },
 "nbformat": 4,
 "nbformat_minor": 2
}
