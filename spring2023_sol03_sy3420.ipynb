{
 "cells": [
  {
   "cell_type": "markdown",
   "metadata": {},
   "source": [
    "## Homework 03\n",
    "\n",
    "### Due Date: Feb 22, 2023, 4:00PM\n",
    "\n",
    "### Student's Name: Seonhye Yang\n",
    "\n",
    "### Student's e-mail: sy3420@nyu.edu"
   ]
  },
  {
   "cell_type": "code",
   "execution_count": 56,
   "metadata": {},
   "outputs": [],
   "source": [
    "from itertools import count\n",
    "from itertools import accumulate\n",
    "import operator\n",
    "from itertools import permutations, starmap, combinations\n",
    "import numpy as np\n",
    "import math\n",
    "from numpy import linalg as LA\n",
    "import time"
   ]
  },
  {
   "cell_type": "markdown",
   "metadata": {},
   "source": [
    "### Problem 1. (15 points)\n",
    "\n",
    "- 1.1. (5 points)    \n",
    "By using **count from itertools** make a generator which produces all numbers from 0 to 1000 (including the two) divisible by 5. \n",
    "\n",
    "- 1.2. (5 points)  \n",
    "From the obtained generator produce a list of numbers that are not divisible by 25. \n",
    "\n",
    "- 1.3. (5 points)  \n",
    "Print the list and the length of the list.\n",
    "\n",
    "\n"
   ]
  },
  {
   "cell_type": "code",
   "execution_count": 60,
   "metadata": {},
   "outputs": [],
   "source": [
    "loop = count(start = 0, step = 5)"
   ]
  },
  {
   "cell_type": "code",
   "execution_count": 61,
   "metadata": {},
   "outputs": [],
   "source": [
    "#1.1. (5 points)\n",
    "def generate_5(n):\n",
    "    for i in range(0, n):\n",
    "        yield next(loop)"
   ]
  },
  {
   "cell_type": "code",
   "execution_count": 59,
   "metadata": {},
   "outputs": [
    {
     "name": "stdout",
     "output_type": "stream",
     "text": [
      "0\n",
      "5\n",
      "10\n",
      "15\n",
      "20\n",
      "25\n",
      "30\n",
      "35\n",
      "40\n",
      "45\n",
      "50\n",
      "55\n",
      "60\n",
      "65\n",
      "70\n",
      "75\n",
      "80\n",
      "85\n",
      "90\n",
      "95\n",
      "100\n",
      "105\n",
      "110\n",
      "115\n",
      "120\n",
      "125\n",
      "130\n",
      "135\n",
      "140\n",
      "145\n",
      "150\n",
      "155\n",
      "160\n",
      "165\n",
      "170\n",
      "175\n",
      "180\n",
      "185\n",
      "190\n",
      "195\n",
      "200\n",
      "205\n",
      "210\n",
      "215\n",
      "220\n",
      "225\n",
      "230\n",
      "235\n",
      "240\n",
      "245\n",
      "250\n",
      "255\n",
      "260\n",
      "265\n",
      "270\n",
      "275\n",
      "280\n",
      "285\n",
      "290\n",
      "295\n",
      "300\n",
      "305\n",
      "310\n",
      "315\n",
      "320\n",
      "325\n",
      "330\n",
      "335\n",
      "340\n",
      "345\n",
      "350\n",
      "355\n",
      "360\n",
      "365\n",
      "370\n",
      "375\n",
      "380\n",
      "385\n",
      "390\n",
      "395\n",
      "400\n",
      "405\n",
      "410\n",
      "415\n",
      "420\n",
      "425\n",
      "430\n",
      "435\n",
      "440\n",
      "445\n",
      "450\n",
      "455\n",
      "460\n",
      "465\n",
      "470\n",
      "475\n",
      "480\n",
      "485\n",
      "490\n",
      "495\n",
      "500\n",
      "505\n",
      "510\n",
      "515\n",
      "520\n",
      "525\n",
      "530\n",
      "535\n",
      "540\n",
      "545\n",
      "550\n",
      "555\n",
      "560\n",
      "565\n",
      "570\n",
      "575\n",
      "580\n",
      "585\n",
      "590\n",
      "595\n",
      "600\n",
      "605\n",
      "610\n",
      "615\n",
      "620\n",
      "625\n",
      "630\n",
      "635\n",
      "640\n",
      "645\n",
      "650\n",
      "655\n",
      "660\n",
      "665\n",
      "670\n",
      "675\n",
      "680\n",
      "685\n",
      "690\n",
      "695\n",
      "700\n",
      "705\n",
      "710\n",
      "715\n",
      "720\n",
      "725\n",
      "730\n",
      "735\n",
      "740\n",
      "745\n",
      "750\n",
      "755\n",
      "760\n",
      "765\n",
      "770\n",
      "775\n",
      "780\n",
      "785\n",
      "790\n",
      "795\n",
      "800\n",
      "805\n",
      "810\n",
      "815\n",
      "820\n",
      "825\n",
      "830\n",
      "835\n",
      "840\n",
      "845\n",
      "850\n",
      "855\n",
      "860\n",
      "865\n",
      "870\n",
      "875\n",
      "880\n",
      "885\n",
      "890\n",
      "895\n",
      "900\n",
      "905\n",
      "910\n",
      "915\n",
      "920\n",
      "925\n",
      "930\n",
      "935\n",
      "940\n",
      "945\n",
      "950\n",
      "955\n",
      "960\n",
      "965\n",
      "970\n",
      "975\n",
      "980\n",
      "985\n",
      "990\n",
      "995\n",
      "1000\n"
     ]
    }
   ],
   "source": [
    "for value in generate_5(201):\n",
    "    print(value)"
   ]
  },
  {
   "cell_type": "code",
   "execution_count": 62,
   "metadata": {},
   "outputs": [
    {
     "name": "stdout",
     "output_type": "stream",
     "text": [
      "160\n",
      "[5, 10, 15, 20, 30, 35, 40, 45, 55, 60, 65, 70, 80, 85, 90, 95, 105, 110, 115, 120, 130, 135, 140, 145, 155, 160, 165, 170, 180, 185, 190, 195, 205, 210, 215, 220, 230, 235, 240, 245, 255, 260, 265, 270, 280, 285, 290, 295, 305, 310, 315, 320, 330, 335, 340, 345, 355, 360, 365, 370, 380, 385, 390, 395, 405, 410, 415, 420, 430, 435, 440, 445, 455, 460, 465, 470, 480, 485, 490, 495, 505, 510, 515, 520, 530, 535, 540, 545, 555, 560, 565, 570, 580, 585, 590, 595, 605, 610, 615, 620, 630, 635, 640, 645, 655, 660, 665, 670, 680, 685, 690, 695, 705, 710, 715, 720, 730, 735, 740, 745, 755, 760, 765, 770, 780, 785, 790, 795, 805, 810, 815, 820, 830, 835, 840, 845, 855, 860, 865, 870, 880, 885, 890, 895, 905, 910, 915, 920, 930, 935, 940, 945, 955, 960, 965, 970, 980, 985, 990, 995]\n"
     ]
    }
   ],
   "source": [
    "gen = generate_5(201)\n",
    "lis = [n for n in gen if n%25 != 0]\n",
    "print(len(lis))\n",
    "print(lis)"
   ]
  },
  {
   "cell_type": "markdown",
   "metadata": {},
   "source": [
    "## Problem 2. (20 points) \n",
    "\n",
    "Write three functions to calculate n! (n factorial) for a given non-negative integer n: \n",
    "\n",
    "- 2.1 (5 points)  \n",
    "f_rec(n) in a recursive way  (in a simplest way without memoization)  \n",
    "\n",
    "- 2.2 (5 points)  \n",
    "- f_it(n) in an iterative way  \n",
    "\n",
    "- 2.3 (10 points)  \n",
    "- f_acc(n) by using \"accumulate\" from itertools. \n",
    "\n",
    "\n",
    "Note the ratios of the expected run-times: \n",
    "1. f_rec(n=1000) and f_it(n=1000)  \n",
    "and \n",
    "2. f_acc(n=1000) and f_it(n=1000)\n"
   ]
  },
  {
   "cell_type": "code",
   "execution_count": 63,
   "metadata": {},
   "outputs": [],
   "source": [
    "#2.1 (5 points)\n",
    "def f_rec(n):\n",
    "    #base case\n",
    "    if n == 0:\n",
    "        return 1\n",
    "    else:\n",
    "        return n*f_rec(n-1)\n",
    "    "
   ]
  },
  {
   "cell_type": "code",
   "execution_count": 64,
   "metadata": {},
   "outputs": [
    {
     "data": {
      "text/plain": [
       "120"
      ]
     },
     "execution_count": 64,
     "metadata": {},
     "output_type": "execute_result"
    }
   ],
   "source": [
    "f_rec(5)"
   ]
  },
  {
   "cell_type": "code",
   "execution_count": 65,
   "metadata": {},
   "outputs": [],
   "source": [
    "#2.2 (5 points)\n",
    "def f_it(n):\n",
    "    start = 1\n",
    "    for i in range(start, n+1):\n",
    "        start = start*i\n",
    "    return start"
   ]
  },
  {
   "cell_type": "code",
   "execution_count": 66,
   "metadata": {},
   "outputs": [
    {
     "data": {
      "text/plain": [
       "120"
      ]
     },
     "execution_count": 66,
     "metadata": {},
     "output_type": "execute_result"
    }
   ],
   "source": [
    "f_it(5)"
   ]
  },
  {
   "cell_type": "code",
   "execution_count": 67,
   "metadata": {},
   "outputs": [
    {
     "data": {
      "text/plain": [
       "[1, 2, 6, 24]"
      ]
     },
     "execution_count": 67,
     "metadata": {},
     "output_type": "execute_result"
    }
   ],
   "source": [
    "list(accumulate(range(1, 5), operator.mul))"
   ]
  },
  {
   "cell_type": "code",
   "execution_count": 68,
   "metadata": {},
   "outputs": [],
   "source": [
    "def f_acc(n):\n",
    "    return list(accumulate(range(1, n+1), operator.mul))[-1]"
   ]
  },
  {
   "cell_type": "code",
   "execution_count": 69,
   "metadata": {},
   "outputs": [
    {
     "data": {
      "text/plain": [
       "120"
      ]
     },
     "execution_count": 69,
     "metadata": {},
     "output_type": "execute_result"
    }
   ],
   "source": [
    "f_acc(5)"
   ]
  },
  {
   "cell_type": "code",
   "execution_count": 42,
   "metadata": {},
   "outputs": [
    {
     "name": "stdout",
     "output_type": "stream",
     "text": [
      "time taken to run f_rec function 0.0006966590881347656\n"
     ]
    }
   ],
   "source": [
    "#timing it\n",
    "import time\n",
    "st = time.time()\n",
    "f_rec(1000)\n",
    "et = time.time()\n",
    "time = et - st  \n",
    "print(\"time taken to run f_rec function\", time)  "
   ]
  },
  {
   "cell_type": "code",
   "execution_count": 43,
   "metadata": {},
   "outputs": [
    {
     "name": "stdout",
     "output_type": "stream",
     "text": [
      "time taken to run f_it function 0.0004169940948486328\n"
     ]
    }
   ],
   "source": [
    "import time\n",
    "st = time.time()\n",
    "f_it(1000)\n",
    "et = time.time()\n",
    "time = et - st  \n",
    "print(\"time taken to run f_it function\", time)  "
   ]
  },
  {
   "cell_type": "code",
   "execution_count": 44,
   "metadata": {},
   "outputs": [
    {
     "name": "stdout",
     "output_type": "stream",
     "text": [
      "time taken to run f_acc function 0.0007369518280029297\n"
     ]
    }
   ],
   "source": [
    "import time\n",
    "st = time.time()\n",
    "f_acc(1000)\n",
    "et = time.time()\n",
    "time = et - st\n",
    "print(\"time taken to run f_acc function\", time)  "
   ]
  },
  {
   "cell_type": "code",
   "execution_count": 54,
   "metadata": {},
   "outputs": [
    {
     "name": "stdout",
     "output_type": "stream",
     "text": [
      "1.6706689536878216\n",
      "1.7672955974842768\n",
      "ratio of f_rec to f_it is 167:100\n",
      "ratio of f_acc to f_it is 44:25\n"
     ]
    }
   ],
   "source": [
    "#f_rec to f_it\n",
    "print(0.0006966590881347656/0.0004169940948486328)\n",
    "#f_acc to f_it\n",
    "print(0.0007369518280029297/0.0004169940948486328)\n",
    "print(\"ratio of f_rec to f_it is 167:100\")\n",
    "print(\"ratio of f_acc to f_it is 44:25\")"
   ]
  },
  {
   "cell_type": "markdown",
   "metadata": {},
   "source": [
    "# Problem 3 (35 points) \n",
    "\n",
    "- 3.1 (5 points)  \n",
    "Write a function  `perm_generator(n)`, which for a given positive integer $n$, returns a generator with all permutations of the set  $\\{0, 1, 2 , \\dots n - 1\\}$.\n",
    "\n",
    "\n",
    "- 3.2 (10 points)  \n",
    "Write a function  `comb_generator(n, k)`, which for given non-negative integers $n, k$ where $n  \\geq k$, returns a generator with all combinations of size $k$ on the set  $\\{0, 1, 2 , \\dots n - 1\\}$.\n",
    "\n",
    "\n",
    "- 3.3 (20 points)    \n",
    "Write a function `h_generator(n)`,  which for a given positive integer $n$, returns a generator with all permutations of the set  $\\{0, 1, 2 , \\dots n - 1\\}$ such that for all  $i = 0, 1, 2, \\dots, n−1$ the number $i$ is not at the $i$-th position. \n",
    "\n",
    "- 3.3. Example: For $n=3$, there are  $3!=6$  permutations $(0, 1, 2), (0, 2, 1), (1, 0, 2), (1, 2, 0), (2, 0, 1), (2, 1, 0)$. And `h_generator(n)` should return the generator with permutations $(1, 2, 0)$ and $(2, 0, 1)$.  For example, $(2, 1, 0)$ cannot be included since here $1$ is at the $1$-st position. \n",
    "\n"
   ]
  },
  {
   "cell_type": "code",
   "execution_count": 70,
   "metadata": {},
   "outputs": [],
   "source": [
    "#3.1 (5 points)\n",
    "def perm_generator(n):\n",
    "    if n>0:\n",
    "        for item in permutations(range(1, n+1)):\n",
    "            print(item)\n",
    "    else:\n",
    "        print(\"Number must be positive\")"
   ]
  },
  {
   "cell_type": "code",
   "execution_count": 71,
   "metadata": {},
   "outputs": [
    {
     "name": "stdout",
     "output_type": "stream",
     "text": [
      "(1, 2, 3)\n",
      "(1, 3, 2)\n",
      "(2, 1, 3)\n",
      "(2, 3, 1)\n",
      "(3, 1, 2)\n",
      "(3, 2, 1)\n"
     ]
    }
   ],
   "source": [
    "perm_generator(3)"
   ]
  },
  {
   "cell_type": "code",
   "execution_count": 73,
   "metadata": {},
   "outputs": [],
   "source": [
    "#3.2 (10 points)\n",
    "def comb_generator(n, k):\n",
    "    return combinations(range(n), k)"
   ]
  },
  {
   "cell_type": "code",
   "execution_count": 74,
   "metadata": {},
   "outputs": [
    {
     "data": {
      "text/plain": [
       "[(0, 1), (0, 2), (1, 2)]"
      ]
     },
     "execution_count": 74,
     "metadata": {},
     "output_type": "execute_result"
    }
   ],
   "source": [
    "list(comb_generator(3, 2))"
   ]
  },
  {
   "cell_type": "code",
   "execution_count": 75,
   "metadata": {},
   "outputs": [],
   "source": [
    "def h_generator(n):\n",
    "    permutation = list(permutations(range(n)))\n",
    "    \n",
    "    for i in permutation:\n",
    "        valid_output = True\n",
    "        for j in range(0, len(i)):\n",
    "            if j == i[j]:\n",
    "                valid_output = False\n",
    "        if valid_output == True:\n",
    "            print(i)\n",
    "    "
   ]
  },
  {
   "cell_type": "code",
   "execution_count": 76,
   "metadata": {},
   "outputs": [
    {
     "name": "stdout",
     "output_type": "stream",
     "text": [
      "(1, 2, 0)\n",
      "(2, 0, 1)\n"
     ]
    }
   ],
   "source": [
    "h_generator(3)"
   ]
  },
  {
   "cell_type": "code",
   "execution_count": 77,
   "metadata": {},
   "outputs": [
    {
     "name": "stdout",
     "output_type": "stream",
     "text": [
      "(1, 0, 3, 2)\n",
      "(1, 2, 3, 0)\n",
      "(1, 3, 0, 2)\n",
      "(2, 0, 3, 1)\n",
      "(2, 3, 0, 1)\n",
      "(2, 3, 1, 0)\n",
      "(3, 0, 1, 2)\n",
      "(3, 2, 0, 1)\n",
      "(3, 2, 1, 0)\n"
     ]
    }
   ],
   "source": [
    "h_generator(4)"
   ]
  },
  {
   "cell_type": "markdown",
   "metadata": {},
   "source": [
    "## Problem 4 (30 points) \n",
    "\n",
    "\n",
    "By using **starmap** from **itertools** write a function that returns a generator that produces all distances for a given input list of points, in the two-dimensional coordinate system.\n",
    "\n",
    "In more detail, for a given input list of points $\\textrm{list_of_points} = [p_0, p_1, \\dots, p_{n - 1}]$, write a function: \n",
    "\n",
    "$$\\textrm{f_distances(list_of_points)}$$\n",
    "\n",
    "that returns a generator that produces tuples $(p_i, p_j, ||p_i - p_j||)$, (where each tuple stores the point i, point j and their Euclidean distance). (There are $n(n - 1) / 2$ tuples.)\n",
    "\n",
    "\n",
    "For example: \n",
    "\n",
    "- input: For 3 points as $\\textrm{list_of_points} = [(0, 0), (0, 1), (1, 0)]$\n",
    "\n",
    "- output: A generator that produces ${3 \\choose 2} = 3$ tuples: $((0, 0), (0, 1), 1); ((0, 0), (1, 0), 1); ((0, 1), (1, 0), \\sqrt{2})$.\n",
    "\n"
   ]
  },
  {
   "cell_type": "code",
   "execution_count": 78,
   "metadata": {},
   "outputs": [],
   "source": [
    "def distance(list_of_points):\n",
    "#     result = []\n",
    "    new_list = list(combinations(list_of_points, 2))\n",
    "    d = (lambda p, q: round(math.sqrt(pow(q[0] - p[0], 2) + \n",
    "                                      pow(q[1] - p[1], 2)), 2))\n",
    "    \n",
    "    result = list(starmap(d, new_list))\n",
    "#     return result\n",
    "    \n",
    "    for i, j in zip(new_list, result):\n",
    "        yield i, j"
   ]
  },
  {
   "cell_type": "code",
   "execution_count": 79,
   "metadata": {},
   "outputs": [
    {
     "name": "stdout",
     "output_type": "stream",
     "text": [
      "(((0, 0), (0, 1)), 1.0)\n",
      "(((0, 0), (1, 0)), 1.0)\n",
      "(((0, 1), (1, 0)), 1.41)\n"
     ]
    }
   ],
   "source": [
    "list_of_points=[(0,0),(0,1),(1,0)]\n",
    "for i in distance(list_of_points):\n",
    "    print(i)"
   ]
  }
 ],
 "metadata": {
  "kernelspec": {
   "display_name": "Python 3 (ipykernel)",
   "language": "python",
   "name": "python3"
  },
  "language_info": {
   "codemirror_mode": {
    "name": "ipython",
    "version": 3
   },
   "file_extension": ".py",
   "mimetype": "text/x-python",
   "name": "python",
   "nbconvert_exporter": "python",
   "pygments_lexer": "ipython3",
   "version": "3.7.13"
  }
 },
 "nbformat": 4,
 "nbformat_minor": 2
}
