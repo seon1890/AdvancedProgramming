{
 "cells": [
  {
   "cell_type": "markdown",
   "metadata": {},
   "source": [
    "# Advanced Python for Data Science\n",
    "### DS-GA 1019\n",
    "\n",
    "### Homework Assignment 04\n",
    "### Due date: 03/01/2023, 4:00PM\n",
    "### Student's Name: Seonhye Yang\n",
    "### Student's e-mail: sy3420@nyu.edu"
   ]
  },
  {
   "cell_type": "markdown",
   "metadata": {},
   "source": [
    "# Problem 1 (100 points)\n",
    "\n",
    "The task is to optimize your solutions by using \"line_profiler\". \n",
    "\n",
    "Your submission \"spring2023_sol04_yourid.ipynb\" will contain:\n",
    "- the first part is your original solution (a solution that you originally wrote); \n",
    "- the second part is your final, optimized solution after using line_profiler; \n",
    "- both of which will include the line_profiler results, and your detailed comments.\n",
    "\n",
    "\n",
    "The problem is to simulate a random motion of $n$ objects over a discrete time. \n",
    "\n",
    "Concretely, there is:\n",
    "- a unit square $[0,1]^2$, \n",
    "- $n$ points within the unit square, \n",
    "- and the time is discrete $t=0, 1, 2, \\dots$. \n",
    "\n",
    "At time $t=0$, the positions of $n$ points are randomly and uniformly distributed within the unit square; call these positions $\\{p_0, p_1, p_2,\\dots, p_{n-1}\\}$. \n",
    "\n",
    "At every time step $t \\geq 0$, every point $i$, chooses to randomly move in one of four directions: left, right, up, down. The distance is also random uniform number on $[0, \\delta]$, where $\\delta$ is given. \n",
    "\n",
    "That is, at every time step $t$ and for every $i$ we generate a random move as: \n",
    "$$ p_i := p_i + r_i \\cdot u_i$$\n",
    "where \n",
    "$$ r_i \\sim uniform[0, \\delta],$$ \n",
    "and \n",
    "$u_i$ represents a random direction, i.e. a randomly chosen vector among $(-1, 0), (1, 0), (0, -1), (0, 1)$.\n",
    "\n",
    "**Dynamics**\n",
    "\n",
    "Now, one would like to examine and plot the diagram of the minimum distance $d_{\\min}$ among these $n$ points over $T$ iterations.\n",
    "\n",
    "The task is to complete the rest of this notebook, where definitions of the functions main_orignal and main_optimized are given below. "
   ]
  },
  {
   "cell_type": "code",
   "execution_count": 11,
   "metadata": {},
   "outputs": [],
   "source": [
    "import numpy as np\n",
    "import random\n",
    "from itertools import combinations\n",
    "import matplotlib.pyplot as plt"
   ]
  },
  {
   "cell_type": "code",
   "execution_count": 4,
   "metadata": {},
   "outputs": [
    {
     "name": "stdout",
     "output_type": "stream",
     "text": [
      "The line_profiler extension is already loaded. To reload it, use:\n",
      "  %reload_ext line_profiler\n"
     ]
    }
   ],
   "source": [
    "%load_ext line_profiler"
   ]
  },
  {
   "cell_type": "markdown",
   "metadata": {},
   "source": [
    "---\n",
    "\n",
    "### The original code description: \n",
    "\n",
    "** TO BE POPULATED **\n",
    "\n",
    "I created a \"preprocessing\" function because it would run faster when we run the main_origin, and it looks much cleaner. \n",
    "\n",
    "I made a function that generates random uniform co-ordinates. \n",
    "\n",
    "I also made a function that calculates the distance of co-ordinates and I just used the standard distance equation for this. \n",
    "\n",
    "---\n"
   ]
  },
  {
   "cell_type": "code",
   "execution_count": 166,
   "metadata": {},
   "outputs": [],
   "source": [
    "#lets create the random uniform points\n",
    "def loop_points(n):\n",
    "    list_points = []\n",
    "    for i in range(n):\n",
    "        x = (np.random.uniform(0, 1))**2\n",
    "        y = (np.random.uniform(0, 1))**2\n",
    "        list_points.append([x, y])\n",
    "    return list_points"
   ]
  },
  {
   "cell_type": "code",
   "execution_count": 167,
   "metadata": {},
   "outputs": [
    {
     "data": {
      "text/plain": [
       "[[0.40039934340244054, 0.002342918862476655],\n",
       " [0.7112743350807236, 0.4307105440621209]]"
      ]
     },
     "execution_count": 167,
     "metadata": {},
     "output_type": "execute_result"
    }
   ],
   "source": [
    "#example that the code runs\n",
    "s = loop_points(2)\n",
    "s"
   ]
  },
  {
   "cell_type": "code",
   "execution_count": 182,
   "metadata": {},
   "outputs": [],
   "source": [
    "def min_distance(d):\n",
    "    combo = list(combinations(d, 2))\n",
    "    for i in combo:\n",
    "        \n",
    "        '''\n",
    "        this is just the standard equation for distance. We would usually absolute\n",
    "        values but we don't need to for this problem since the co-ordinates\n",
    "        are positive values and squaring it will always make it positive. \n",
    "        \n",
    "        '''\n",
    "        min_d = np.sqrt((i[0][0] - i[1][0])**2 + (i[0][1] - i[1][1])**2)\n",
    "    return min_d"
   ]
  },
  {
   "cell_type": "code",
   "execution_count": 169,
   "metadata": {},
   "outputs": [
    {
     "data": {
      "text/plain": [
       "0.529284500783988"
      ]
     },
     "execution_count": 169,
     "metadata": {},
     "output_type": "execute_result"
    }
   ],
   "source": [
    "min_distance(s)"
   ]
  },
  {
   "cell_type": "code",
   "execution_count": 184,
   "metadata": {},
   "outputs": [],
   "source": [
    "def main_original(n, delta, T): \n",
    "    \"\"\" \n",
    "    n: is the number of uniformly at random generated points in the unit \n",
    "    square \n",
    "    delta: a maximal move of a point in one of four random \n",
    "    directions: left, right, up, or down \n",
    "    T: number of iterations\n",
    "    return: \n",
    "    lst_of_min_distances: of the minimum distances among all n points \n",
    "    over times: t=0, 1, 2, \\dots, T - 1,it is a list of reals of length T\n",
    "    \"\"\"\n",
    "    #r is random uniform number on [0, delta]\n",
    "    #u is u is random direction\n",
    "    \n",
    "    rand_direction = [[-1,0],[1,0],[0,-1],[0,1]]\n",
    "    points = loop_points(n)\n",
    "    min_dis_points = []\n",
    "    min_dis_points.append(min_distance(points))\n",
    "    \n",
    "    \n",
    "#     rand_direction[np.random.choice(4)]\n",
    "    for i in range(1, T):\n",
    "        for j in range(n):\n",
    "            r = np.array(np.random.uniform(0, delta))\n",
    "            u = rand_direction[np.random.choice(len(rand_direction))]\n",
    "            random_move = points[j] + r*u\n",
    "            points[j][0] = np.minimum(np.maximum(random_move[0],0),1) \n",
    "            points[j][1] = np.minimum(np.maximum(random_move[1],0),1)\n",
    "        min_dis_points.append(min_distance(points))\n",
    "    return min_dis_points"
   ]
  },
  {
   "cell_type": "code",
   "execution_count": 185,
   "metadata": {},
   "outputs": [],
   "source": [
    "n = 1500\n",
    "delta = 1.0 / n\n",
    "T = 20"
   ]
  },
  {
   "cell_type": "code",
   "execution_count": 186,
   "metadata": {},
   "outputs": [],
   "source": [
    "%lprun -f main_original lst_min_dist = main_original(n, delta, T)"
   ]
  },
  {
   "cell_type": "markdown",
   "metadata": {},
   "source": [
    "Timer unit: 1e-09 s\n",
    "\n",
    "Total time: 120.5828 s\n",
    "File: /var/folders/g5/8420xbfs5csgrv_ygg6vztxw0000gn/T/ipykernel_970/469692841.py\n",
    "Function: main_original at line 1\n",
    "\n",
    "Line       Hits         Time  Per Hit   % Time  Line Contents\n",
    "==============================================================\n",
    "     1                                           def main_original(n, delta, T): \n",
    "     2                                               \"\"\" \n",
    "     3                                               n: is the number of uniformly at random generated points in the unit \n",
    "     4                                               square \n",
    "     5                                               delta: a maximal move of a point in one of four random \n",
    "     6                                               directions: left, right, up, or down \n",
    "     7                                               T: number of iterations\n",
    "     8                                               return: \n",
    "     9                                               lst_of_min_distances: of the minimum distances among all n points \n",
    "    10                                               over times: t=0, 1, 2, \\dots, T - 1,it is a list of reals of length T\n",
    "    11                                               \"\"\"\n",
    "    12                                               #r is random uniform number on [0, delta]\n",
    "    13                                               #u is u is random direction\n",
    "    14                                               \n",
    "    15         1       1000.0   1000.0      0.0      rand_direction = [[-1,0],[1,0],[0,-1],[0,1]]\n",
    "    16         1    9680000.0 9680000.0      0.0      points = loop_points(n)\n",
    "    17         1       1000.0   1000.0      0.0      min_dis_points = []\n",
    "    18         1 1969705000.0 1969705000.0      3.5      min_dis_points.append(min_distance(points))\n",
    "    19                                               \n",
    "    20                                               \n",
    "    21                                           #     rand_direction[np.random.choice(4)]\n",
    "    22        19      27000.0   1421.1      0.0      for i in range(1, T):\n",
    "    23     28500   12311000.0    432.0      0.0          for j in range(n):\n",
    "    24     28500  108260000.0   3798.6      0.2              r = np.array(np.random.uniform(0, delta))\n",
    "    25     28500  430622000.0  15109.5      0.8              u = rand_direction[np.random.choice(4)]\n",
    "    26     28500  154618000.0   5425.2      0.3              random_move = points[j] + r*u\n",
    "    27     28500  124595000.0   4371.8      0.2              points[j][0] = np.minimum(np.maximum(random_move[0],0),1) \n",
    "    28     28500  108714000.0   3814.5      0.2              points[j][1] = np.minimum(np.maximum(random_move[1],0),1)\n",
    "    29        19 53664178000.0 2824430421.1     94.8          mindis = min_distance(points)\n",
    "    30        19      55000.0   2894.7      0.0          min_dis_points.append(mindis)\n",
    "    31         1       1000.0   1000.0      0.0      return min_dis_points"
   ]
  },
  {
   "cell_type": "code",
   "execution_count": 132,
   "metadata": {},
   "outputs": [
    {
     "name": "stdout",
     "output_type": "stream",
     "text": [
      "len: 20\n"
     ]
    },
    {
     "data": {
      "image/png": "[encoded data removed]",
      "text/plain": [
       "<Figure size 640x480 with 1 Axes>"
      ]
     },
     "metadata": {},
     "output_type": "display_data"
    }
   ],
   "source": [
    "# plot the diagram of the minimum distances:\n",
    "# where we rescale distance with by factor $\\sqrt{n}$:\n",
    "print(\"len:\", len(lst_min_dist))\n",
    "plt.plot(range(T), np.array(lst_min_dist) * np.sqrt(n))\n",
    "plt.show()"
   ]
  },
  {
   "cell_type": "markdown",
   "metadata": {},
   "source": [
    "---\n",
    "\n",
    "### The optimized code description: \n",
    "\n",
    "** TO BE POPULATED **\n",
    "\n",
    "I got rid off the loop inside because this increased the time complexity. \n",
    "\n",
    "What I did instead was create a loop for the u variable (random direction) so it doesn't loop over the entire function. There for it loops over the random direction vector. \n",
    "\n",
    "\n",
    "---\n"
   ]
  },
  {
   "cell_type": "code",
   "execution_count": 178,
   "metadata": {},
   "outputs": [],
   "source": [
    "def main_optimized(n, delta, T): \n",
    "    \"\"\" \n",
    "    n: is the number of uniformly at random generated points in the unit square \n",
    "    delta: a maximal move of a point in one of four random directions: left, right, up, or down \n",
    "    T: number of iterations\n",
    "    return: \n",
    "    lst_of_min_distances: of the minimum distances among all n points over times: t=0, 1, 2, \\dots, T - 1,\n",
    "    it is a list of reals of length T\"\"\"\n",
    "    rand_direction = [[-1,0],[1,0],[0,-1],[0,1]]\n",
    "    points = loop_points(n)\n",
    "    min_dis_points = []\n",
    "    min_dis_points.append(min_distance(points))\n",
    "    for i in range(1, T):\n",
    "        r = np.array(np.random.uniform(0, delta))\n",
    "        u = np.array([rand_direction[i] for i in np.random.choice(4, size=n)])\n",
    "        random_move = points + r*u\n",
    "        points = np.maximum(random_move, 0)\n",
    "        points = np.maximum(random_move, 1)\n",
    "        min_dis_points.append(min_distance(points))\n",
    "    return min_dis_points"
   ]
  },
  {
   "cell_type": "code",
   "execution_count": 179,
   "metadata": {},
   "outputs": [],
   "source": [
    "n = 1500\n",
    "delta = 1.0 / n\n",
    "T = 40"
   ]
  },
  {
   "cell_type": "code",
   "execution_count": 180,
   "metadata": {},
   "outputs": [],
   "source": [
    "%lprun -f main_optimized lst_min_dist = main_optimized(n, delta, T)"
   ]
  },
  {
   "cell_type": "markdown",
   "metadata": {},
   "source": [
    "Timer unit: 1e-09 s\n",
    "\n",
    "Total time: 104.457 s\n",
    "File: /var/folders/g5/8420xbfs5csgrv_ygg6vztxw0000gn/T/ipykernel_970/729643702.py\n",
    "Function: main_optimized at line 1\n",
    "\n",
    "Line  Hits         Time  Per Hit   % Time  Line Contents\n",
    "==============================================================\n",
    "     1                                           def main_optimized(n, delta, T): \n",
    "     2                                               \"\"\" \n",
    "     3                                               n: is the number of uniformly at random generated points in the unit square \n",
    "     4                                               delta: a maximal move of a point in one of four random directions: left, right, up, or down \n",
    "     5                                               T: number of iterations\n",
    "     6                                               return: \n",
    "     7                                               lst_of_min_distances: of the minimum distances among all n points over times: t=0, 1, 2, \\dots, T - 1,\n",
    "     8                                               it is a list of reals of length T\"\"\"\n",
    "     9         1       2000.0   2000.0      0.0      rand_direction = [[-1,0],[1,0],[0,-1],[0,1]]\n",
    "    10         1    9283000.0 9283000.0      0.0      points = loop_points(n)\n",
    "    11         1       1000.0   1000.0      0.0      min_dis_points = []\n",
    "    12         1 1826369000.0 1826369000.0      1.7      min_dis_points.append(min_distance(points))\n",
    "    13                                               \n",
    "    14                                               \n",
    "    15                                           #     rand_direction[np.random.choice(4)]\n",
    "    16        39      40000.0   1025.6      0.0      for i in range(1, T):\n",
    "    17        39    1075000.0  27564.1      0.0          r = np.array(np.random.uniform(0, delta))\n",
    "    18        39   47177000.0 1209666.7      0.0          u = np.array([rand_direction[i] for i in np.random.choice(4, size =n)])\n",
    "    19        39    1492000.0  38256.4      0.0          random_move = points + r*u\n",
    "    20        39     461000.0  11820.5      0.0          points = np.maximum(random_move, 0)\n",
    "    21        39     257000.0   6589.7      0.0          points = np.maximum(random_move, 1)\n",
    "    22        39 102570746000.0 2630019128.2     98.2          mindis = min_distance(points)\n",
    "    23        39     134000.0   3435.9      0.0          min_dis_points.append(mindis)\n",
    "    24         1       1000.0   1000.0      0.0      return min_dis_points"
   ]
  },
  {
   "cell_type": "code",
   "execution_count": 183,
   "metadata": {},
   "outputs": [
    {
     "name": "stdout",
     "output_type": "stream",
     "text": [
      "len: 40\n"
     ]
    },
    {
     "data": {
      "image/png": "[encoded data removed]",
      "text/plain": [
       "<Figure size 640x480 with 1 Axes>"
      ]
     },
     "metadata": {},
     "output_type": "display_data"
    }
   ],
   "source": [
    "# plot the diagram of the minimum distances:\n",
    "# where we rescale distance by a factor $\\sqrt{n}$:\n",
    "print(\"len:\", len(lst_min_dist))\n",
    "plt.plot(range(T), np.array(lst_min_dist) / np.sqrt(n))\n",
    "plt.show()"
   ]
  },
  {
   "cell_type": "code",
   "execution_count": null,
   "metadata": {},
   "outputs": [],
   "source": []
  }
 ],
 "metadata": {
  "kernelspec": {
   "display_name": "Python 3 (ipykernel)",
   "language": "python",
   "name": "python3"
  },
  "language_info": {
   "codemirror_mode": {
    "name": "ipython",
    "version": 3
   },
   "file_extension": ".py",
   "mimetype": "text/x-python",
   "name": "python",
   "nbconvert_exporter": "python",
   "pygments_lexer": "ipython3",
   "version": "3.7.13"
  }
 },
 "nbformat": 4,
 "nbformat_minor": 2
}
